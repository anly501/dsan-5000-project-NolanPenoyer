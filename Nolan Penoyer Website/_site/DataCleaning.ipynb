{
  "cells": [
    {
      "cell_type": "markdown",
      "metadata": {},
      "source": [
        "---\n",
        "title: \"Data Cleaning\"\n",
        "---"
      ]
    },
    {
      "cell_type": "code",
      "execution_count": 1,
      "metadata": {},
      "outputs": [],
      "source": [
        "import requests\n",
        "import json\n",
        "import re\n",
        "import pandas as pd"
      ]
    },
    {
      "cell_type": "code",
      "execution_count": 2,
      "metadata": {},
      "outputs": [
        {
          "data": {
            "text/html": [
              "<div>\n",
              "<style scoped>\n",
              "    .dataframe tbody tr th:only-of-type {\n",
              "        vertical-align: middle;\n",
              "    }\n",
              "\n",
              "    .dataframe tbody tr th {\n",
              "        vertical-align: top;\n",
              "    }\n",
              "\n",
              "    .dataframe thead th {\n",
              "        text-align: right;\n",
              "    }\n",
              "</style>\n",
              "<table border=\"1\" class=\"dataframe\">\n",
              "  <thead>\n",
              "    <tr style=\"text-align: right;\">\n",
              "      <th></th>\n",
              "      <th>0</th>\n",
              "      <th>1</th>\n",
              "      <th>2</th>\n",
              "      <th>3</th>\n",
              "      <th>4</th>\n",
              "      <th>5</th>\n",
              "      <th>6</th>\n",
              "    </tr>\n",
              "  </thead>\n",
              "  <tbody>\n",
              "    <tr>\n",
              "      <th>0</th>\n",
              "      <td>GEO_ID</td>\n",
              "      <td>NAME</td>\n",
              "      <td>P1_001N</td>\n",
              "      <td>P1_001NA</td>\n",
              "      <td>state</td>\n",
              "      <td>county</td>\n",
              "      <td>county subdivision</td>\n",
              "    </tr>\n",
              "    <tr>\n",
              "      <th>1</th>\n",
              "      <td>0600000US5100991500</td>\n",
              "      <td>District 3, Amherst County, Virginia</td>\n",
              "      <td>6485</td>\n",
              "      <td>None</td>\n",
              "      <td>51</td>\n",
              "      <td>009</td>\n",
              "      <td>91500</td>\n",
              "    </tr>\n",
              "    <tr>\n",
              "      <th>2</th>\n",
              "      <td>0600000US5100791799</td>\n",
              "      <td>District 5, Amelia County, Virginia</td>\n",
              "      <td>2655</td>\n",
              "      <td>None</td>\n",
              "      <td>51</td>\n",
              "      <td>007</td>\n",
              "      <td>91799</td>\n",
              "    </tr>\n",
              "    <tr>\n",
              "      <th>3</th>\n",
              "      <td>0600000US5100991200</td>\n",
              "      <td>District 1, Amherst County, Virginia</td>\n",
              "      <td>6318</td>\n",
              "      <td>None</td>\n",
              "      <td>51</td>\n",
              "      <td>009</td>\n",
              "      <td>91200</td>\n",
              "    </tr>\n",
              "    <tr>\n",
              "      <th>4</th>\n",
              "      <td>0600000US5100991350</td>\n",
              "      <td>District 2, Amherst County, Virginia</td>\n",
              "      <td>6076</td>\n",
              "      <td>None</td>\n",
              "      <td>51</td>\n",
              "      <td>009</td>\n",
              "      <td>91350</td>\n",
              "    </tr>\n",
              "  </tbody>\n",
              "</table>\n",
              "</div>"
            ],
            "text/plain": [
              "                     0                                     1        2  \\\n",
              "0               GEO_ID                                  NAME  P1_001N   \n",
              "1  0600000US5100991500  District 3, Amherst County, Virginia     6485   \n",
              "2  0600000US5100791799   District 5, Amelia County, Virginia     2655   \n",
              "3  0600000US5100991200  District 1, Amherst County, Virginia     6318   \n",
              "4  0600000US5100991350  District 2, Amherst County, Virginia     6076   \n",
              "\n",
              "          3      4       5                   6  \n",
              "0  P1_001NA  state  county  county subdivision  \n",
              "1      None     51     009               91500  \n",
              "2      None     51     007               91799  \n",
              "3      None     51     009               91200  \n",
              "4      None     51     009               91350  "
            ]
          },
          "execution_count": 2,
          "metadata": {},
          "output_type": "execute_result"
        }
      ],
      "source": [
        "population_2020_URL='https://api.census.gov/data/2020/dec/dhc?get=group(P1)&for=county%20subdivision:*&in=state:51&in=county:*'\n",
        "pop_response = requests.get(population_2020_URL)\n",
        "pop_response = pop_response.json()\n",
        "pop_df=pd.DataFrame(pop_response)\n",
        "pop_df.head()"
      ]
    }
  ],
  "metadata": {
    "kernelspec": {
      "display_name": "Python 3",
      "language": "python",
      "name": "python3"
    },
    "language_info": {
      "codemirror_mode": {
        "name": "ipython",
        "version": 3
      },
      "file_extension": ".py",
      "mimetype": "text/x-python",
      "name": "python",
      "nbconvert_exporter": "python",
      "pygments_lexer": "ipython3",
      "version": "3.11.5"
    }
  },
  "nbformat": 4,
  "nbformat_minor": 4
}
