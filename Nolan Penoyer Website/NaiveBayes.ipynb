{
 "cells": [
  {
   "cell_type": "markdown",
   "metadata": {},
   "source": [
    "---\n",
    "title: \"Naive Bayes\"\n",
    "format: html\n",
    "---"
   ]
  },
  {
   "cell_type": "markdown",
   "metadata": {},
   "source": [
    "# Introduction to Naive Bayes"
   ]
  },
  {
   "cell_type": "markdown",
   "metadata": {},
   "source": [
    "Naive Bayes is a supervised machine learning algorithm used for classification tasks. The algorithm is rooted in Bayes Theorem in that it is based on the probability of a hypothesis, given data and prior knowledge. Below is the equation the Naive Bayes Algorithm uses."
   ]
  },
  {
   "cell_type": "markdown",
   "metadata": {},
   "source": [
    "[![Bayes' Theorem](./images/Bayes_rule.png \"Bayes' Theorem\")](https://www.saedsayad.com/naive_bayesian.htm)"
   ]
  },
  {
   "cell_type": "markdown",
   "metadata": {},
   "source": [
    "Where P(c|x)= The probability of the target variable class given the features <br>\n",
    "P(x|c)= The probability of the features given the class <br>\n",
    "and P(c), P(x) are the prior probabilties of the target variable class and features."
   ]
  },
  {
   "cell_type": "markdown",
   "metadata": {},
   "source": [
    "The algorithm estimates the probability of each class for a given data point and assign the class with the highest probability to the data point. It assumes that all features are independent of each other; this is usually not the case in the real world but the algorithm still provides accurate predictions. Ultimately, through Naive Bayes you want to achieve accurate classifications given the algorithm is given data with a set of variables. In my case, I would like to predict if a certain state's home value will increase substantially in a certain year based on census data. Different variants of Naive Bayes are used for different applications. Multinomial Naive Bayes is used for word counts and frequency analysis (discrete data). Gaussian Naive Bayes is used for numeric data that is approximately normally distributed and independent. Bernoulli Naive Bayes is used for binary data, like if a word appears in a document or not."
   ]
  },
  {
   "cell_type": "markdown",
   "metadata": {},
   "source": [
    "# Prepare Data for Naive Bayes"
   ]
  },
  {
   "cell_type": "markdown",
   "metadata": {},
   "source": [
    "Currently my explanatory variable is continuious. I must change it to a label variable. To do this, I will choose home value percent changes that are above the mean to 1s, home value percent changes that are below the mean below the mean to 0s."
   ]
  },
  {
   "cell_type": "code",
   "execution_count": 20,
   "metadata": {},
   "outputs": [],
   "source": [
    "import pandas as pd\n",
    "record=pd.read_csv('data/RecordData.csv')\n",
    "mean=record['Typical Home Value'].mean()\n",
    "record['Typical Home Value']=record['Typical Home Value'].apply(lambda x:1 if x>mean else 0)\n",
    "record=record.drop(['Year','RegionName'],axis=1)"
   ]
  },
  {
   "cell_type": "code",
   "execution_count": 22,
   "metadata": {},
   "outputs": [
    {
     "data": {
      "text/html": [
       "<div>\n",
       "<style scoped>\n",
       "    .dataframe tbody tr th:only-of-type {\n",
       "        vertical-align: middle;\n",
       "    }\n",
       "\n",
       "    .dataframe tbody tr th {\n",
       "        vertical-align: top;\n",
       "    }\n",
       "\n",
       "    .dataframe thead th {\n",
       "        text-align: right;\n",
       "    }\n",
       "</style>\n",
       "<table border=\"1\" class=\"dataframe\">\n",
       "  <thead>\n",
       "    <tr style=\"text-align: right;\">\n",
       "      <th></th>\n",
       "      <th>Total households</th>\n",
       "      <th>Married couple households</th>\n",
       "      <th>Married couple with children of the householder under 18 years</th>\n",
       "      <th>Male householder,no spouse/partner present with children of the householder under 18 years</th>\n",
       "      <th>Female householder, no spouse/partner present with children of the householder under 18 years</th>\n",
       "      <th>Number of women 15 to 50 years old who had a birth in the past 12 months</th>\n",
       "      <th>Less than 9th grade</th>\n",
       "      <th>9th to 12th grade,no diploma</th>\n",
       "      <th>High school graduate (includes equivalency)</th>\n",
       "      <th>Some college, no degree</th>\n",
       "      <th>...</th>\n",
       "      <th>Mean Rent Paid</th>\n",
       "      <th>Total population</th>\n",
       "      <th>Sex ratio (males per 100 females)</th>\n",
       "      <th>Median Age</th>\n",
       "      <th>Race-White</th>\n",
       "      <th>Race-Black</th>\n",
       "      <th>Race-American Indian and Alaska Native</th>\n",
       "      <th>Race-Asian</th>\n",
       "      <th>Hispanic or Latino</th>\n",
       "      <th>Typical Home Value</th>\n",
       "    </tr>\n",
       "  </thead>\n",
       "  <tbody>\n",
       "    <tr>\n",
       "      <th>0</th>\n",
       "      <td>0.007341</td>\n",
       "      <td>0.009226</td>\n",
       "      <td>-0.008186</td>\n",
       "      <td>0.090413</td>\n",
       "      <td>0.007228</td>\n",
       "      <td>0.004783</td>\n",
       "      <td>0.022710</td>\n",
       "      <td>-0.002918</td>\n",
       "      <td>0.018174</td>\n",
       "      <td>0.033732</td>\n",
       "      <td>...</td>\n",
       "      <td>0.050667</td>\n",
       "      <td>0.002692</td>\n",
       "      <td>0.003198</td>\n",
       "      <td>0.010283</td>\n",
       "      <td>-0.001775</td>\n",
       "      <td>-0.000327</td>\n",
       "      <td>-0.123824</td>\n",
       "      <td>-0.027097</td>\n",
       "      <td>0.047111</td>\n",
       "      <td>0</td>\n",
       "    </tr>\n",
       "    <tr>\n",
       "      <th>1</th>\n",
       "      <td>0.022851</td>\n",
       "      <td>-0.265678</td>\n",
       "      <td>-0.360479</td>\n",
       "      <td>-0.317095</td>\n",
       "      <td>-0.802204</td>\n",
       "      <td>1.302990</td>\n",
       "      <td>-0.588360</td>\n",
       "      <td>-0.705200</td>\n",
       "      <td>0.439418</td>\n",
       "      <td>1.429793</td>\n",
       "      <td>...</td>\n",
       "      <td>0.024112</td>\n",
       "      <td>0.003133</td>\n",
       "      <td>-0.006376</td>\n",
       "      <td>0.002545</td>\n",
       "      <td>0.005908</td>\n",
       "      <td>0.009572</td>\n",
       "      <td>0.054480</td>\n",
       "      <td>0.015884</td>\n",
       "      <td>0.036934</td>\n",
       "      <td>0</td>\n",
       "    </tr>\n",
       "    <tr>\n",
       "      <th>2</th>\n",
       "      <td>0.036880</td>\n",
       "      <td>0.013836</td>\n",
       "      <td>0.056032</td>\n",
       "      <td>-0.010988</td>\n",
       "      <td>0.081890</td>\n",
       "      <td>-0.050374</td>\n",
       "      <td>-0.025077</td>\n",
       "      <td>-0.044056</td>\n",
       "      <td>0.038532</td>\n",
       "      <td>0.007408</td>\n",
       "      <td>...</td>\n",
       "      <td>0.066914</td>\n",
       "      <td>0.027878</td>\n",
       "      <td>0.008556</td>\n",
       "      <td>0.010152</td>\n",
       "      <td>-0.013376</td>\n",
       "      <td>-0.010947</td>\n",
       "      <td>0.067268</td>\n",
       "      <td>0.040587</td>\n",
       "      <td>0.082710</td>\n",
       "      <td>1</td>\n",
       "    </tr>\n",
       "    <tr>\n",
       "      <th>3</th>\n",
       "      <td>0.024848</td>\n",
       "      <td>0.041137</td>\n",
       "      <td>0.053954</td>\n",
       "      <td>-0.058821</td>\n",
       "      <td>0.009307</td>\n",
       "      <td>0.106362</td>\n",
       "      <td>-0.070979</td>\n",
       "      <td>-0.062720</td>\n",
       "      <td>-0.020504</td>\n",
       "      <td>0.014854</td>\n",
       "      <td>...</td>\n",
       "      <td>0.060395</td>\n",
       "      <td>0.006829</td>\n",
       "      <td>-0.001060</td>\n",
       "      <td>-0.005025</td>\n",
       "      <td>0.006291</td>\n",
       "      <td>-0.002353</td>\n",
       "      <td>-0.017318</td>\n",
       "      <td>0.146484</td>\n",
       "      <td>-0.125037</td>\n",
       "      <td>0</td>\n",
       "    </tr>\n",
       "    <tr>\n",
       "      <th>4</th>\n",
       "      <td>0.015195</td>\n",
       "      <td>0.000753</td>\n",
       "      <td>-0.043082</td>\n",
       "      <td>-0.078405</td>\n",
       "      <td>0.043289</td>\n",
       "      <td>0.942898</td>\n",
       "      <td>-0.208181</td>\n",
       "      <td>0.031255</td>\n",
       "      <td>0.017837</td>\n",
       "      <td>-0.065209</td>\n",
       "      <td>...</td>\n",
       "      <td>-0.019983</td>\n",
       "      <td>-0.003186</td>\n",
       "      <td>-0.009174</td>\n",
       "      <td>0.011594</td>\n",
       "      <td>-0.000634</td>\n",
       "      <td>0.139775</td>\n",
       "      <td>0.012942</td>\n",
       "      <td>-0.060828</td>\n",
       "      <td>0.026241</td>\n",
       "      <td>0</td>\n",
       "    </tr>\n",
       "  </tbody>\n",
       "</table>\n",
       "<p>5 rows × 32 columns</p>\n",
       "</div>"
      ],
      "text/plain": [
       "   Total households  Married couple households  \\\n",
       "0          0.007341                   0.009226   \n",
       "1          0.022851                  -0.265678   \n",
       "2          0.036880                   0.013836   \n",
       "3          0.024848                   0.041137   \n",
       "4          0.015195                   0.000753   \n",
       "\n",
       "   Married couple with children of the householder under 18 years  \\\n",
       "0                                          -0.008186                \n",
       "1                                          -0.360479                \n",
       "2                                           0.056032                \n",
       "3                                           0.053954                \n",
       "4                                          -0.043082                \n",
       "\n",
       "   Male householder,no spouse/partner present with children of the householder under 18 years  \\\n",
       "0                                           0.090413                                            \n",
       "1                                          -0.317095                                            \n",
       "2                                          -0.010988                                            \n",
       "3                                          -0.058821                                            \n",
       "4                                          -0.078405                                            \n",
       "\n",
       "   Female householder, no spouse/partner present with children of the householder under 18 years  \\\n",
       "0                                           0.007228                                               \n",
       "1                                          -0.802204                                               \n",
       "2                                           0.081890                                               \n",
       "3                                           0.009307                                               \n",
       "4                                           0.043289                                               \n",
       "\n",
       "   Number of women 15 to 50 years old who had a birth in the past 12 months  \\\n",
       "0                                           0.004783                          \n",
       "1                                           1.302990                          \n",
       "2                                          -0.050374                          \n",
       "3                                           0.106362                          \n",
       "4                                           0.942898                          \n",
       "\n",
       "   Less than 9th grade  9th to 12th grade,no diploma  \\\n",
       "0             0.022710                     -0.002918   \n",
       "1            -0.588360                     -0.705200   \n",
       "2            -0.025077                     -0.044056   \n",
       "3            -0.070979                     -0.062720   \n",
       "4            -0.208181                      0.031255   \n",
       "\n",
       "   High school graduate (includes equivalency)  Some college, no degree  ...  \\\n",
       "0                                     0.018174                 0.033732  ...   \n",
       "1                                     0.439418                 1.429793  ...   \n",
       "2                                     0.038532                 0.007408  ...   \n",
       "3                                    -0.020504                 0.014854  ...   \n",
       "4                                     0.017837                -0.065209  ...   \n",
       "\n",
       "   Mean Rent Paid  Total population  Sex ratio (males per 100 females)  \\\n",
       "0        0.050667          0.002692                           0.003198   \n",
       "1        0.024112          0.003133                          -0.006376   \n",
       "2        0.066914          0.027878                           0.008556   \n",
       "3        0.060395          0.006829                          -0.001060   \n",
       "4       -0.019983         -0.003186                          -0.009174   \n",
       "\n",
       "   Median Age  Race-White  Race-Black  Race-American Indian and Alaska Native  \\\n",
       "0    0.010283   -0.001775   -0.000327                               -0.123824   \n",
       "1    0.002545    0.005908    0.009572                                0.054480   \n",
       "2    0.010152   -0.013376   -0.010947                                0.067268   \n",
       "3   -0.005025    0.006291   -0.002353                               -0.017318   \n",
       "4    0.011594   -0.000634    0.139775                                0.012942   \n",
       "\n",
       "   Race-Asian  Hispanic or Latino  Typical Home Value  \n",
       "0   -0.027097            0.047111                   0  \n",
       "1    0.015884            0.036934                   0  \n",
       "2    0.040587            0.082710                   1  \n",
       "3    0.146484           -0.125037                   0  \n",
       "4   -0.060828            0.026241                   0  \n",
       "\n",
       "[5 rows x 32 columns]"
      ]
     },
     "execution_count": 22,
     "metadata": {},
     "output_type": "execute_result"
    }
   ],
   "source": [
    "record.head()"
   ]
  },
  {
   "cell_type": "markdown",
   "metadata": {},
   "source": [
    "# Feature Selection"
   ]
  },
  {
   "cell_type": "markdown",
   "metadata": {},
   "source": [
    "The text data was not very relevant to my project and something happened to my text data, so the code below does not work properly and produce a result that makes sense. It was not worth it to remedy the issue."
   ]
  },
  {
   "cell_type": "code",
   "execution_count": 1,
   "metadata": {},
   "outputs": [
    {
     "name": "stderr",
     "output_type": "stream",
     "text": [
      "[nltk_data] Downloading package vader_lexicon to\n",
      "[nltk_data]     C:\\Users\\npeno\\AppData\\Roaming\\nltk_data...\n",
      "[nltk_data]   Package vader_lexicon is already up-to-date!\n"
     ]
    }
   ],
   "source": [
    "import pandas as pd\n",
    "from nltk.sentiment.vader import SentimentIntensityAnalyzer\n",
    "import nltk\n",
    "nltk.download('vader_lexicon')\n",
    "sid = SentimentIntensityAnalyzer()\n",
    "import numpy as np\n",
    "import matplotlib.pyplot as plt\n",
    "text=pd.read_csv('./data/news.csv')\n",
    "text['score'] = text['2'].apply(lambda x: sid.polarity_scores(x))\n",
    "text['score'] = text['score'].apply(lambda x: x['compound']).astype(float)\n",
    "text['score'].mean()"
   ]
  },
  {
   "cell_type": "markdown",
   "metadata": {},
   "source": [
    "Will say if title is above mean it is positive/neutral, below mean negative."
   ]
  },
  {
   "cell_type": "code",
   "execution_count": 23,
   "metadata": {},
   "outputs": [
    {
     "name": "stdout",
     "output_type": "stream",
     "text": [
      "[12, 73, 44, 63, 78, 72, 70, 8, 86, 5]\n",
      "[62, 40, 66, 60, 65, 83, 71, 9, 80, 59]\n"
     ]
    }
   ],
   "source": [
    "titles=[]\n",
    "y=[]\n",
    "#ITERATE OVER ROWS\n",
    "# for i in range(0,10):  \n",
    "for i in range(0,text.shape[0]):\n",
    "    # QUICKLY CLEAN TEXT\n",
    "    keep=\"abcdefghijklmnopqrstuvwxyz \"\n",
    "    replace=\".,!;\"\n",
    "    tmp=\"\"\n",
    "    for char in text[\"2\"][i].replace(\"<br />\",\"\").lower():\n",
    "        if char in replace:\n",
    "            tmp+=\" \"\n",
    "        if char in keep:\n",
    "            tmp+=char\n",
    "    tmp=\" \".join(tmp.split())\n",
    "    titles.append(tmp)\n",
    "    if(text[\"score\"][i]<=text['score'].mean()):\n",
    "        y.append(0)\n",
    "    if(text[\"score\"][i]>=text['score'].mean()):\n",
    "        y.append(1)\n",
    "y=np.array(y)\n",
    "from sklearn.feature_extraction.text import CountVectorizer\n",
    "\n",
    "def vectorize(corpus,MAX_FEATURES):\n",
    "    vectorizer=CountVectorizer(max_features=MAX_FEATURES,stop_words=\"english\")   \n",
    "    # RUN COUNT VECTORIZER ON OUR COURPUS \n",
    "    Xs  =  vectorizer.fit_transform(corpus)   \n",
    "    X=np.array(Xs.todense())\n",
    "    #CONVERT TO ONE-HOT VECTORS (can also be done with binary=true in CountVectorizer)\n",
    "    maxs=np.max(X,axis=0)\n",
    "    return (np.ceil(X/maxs),vectorizer.vocabulary_)\n",
    "\n",
    "(x,vocab0)=vectorize(titles,MAX_FEATURES=10000)\n",
    "vocab1 = dict([(value, key) for key, value in vocab0.items()])\n",
    "df2=pd.DataFrame(x)\n",
    "s = df2.sum(axis=0)\n",
    "df2=df2[s.sort_values(ascending=False).index[:]]\n",
    "i1=0\n",
    "vocab2={}\n",
    "for i2 in list(df2.columns):\n",
    "    # print(i2)\n",
    "    vocab2[i1]=vocab1[int(i2)]\n",
    "    i1+=1\n",
    "df2.columns = range(df2.columns.size)\n",
    "x=df2.to_numpy()\n",
    "import random\n",
    "N=x.shape[0]\n",
    "l = [*range(N)]     # indices\n",
    "cut = int(0.8 * N) #80% of the list\n",
    "random.shuffle(l)   # randomize\n",
    "train_index = l[:cut] # first 80% of shuffled list\n",
    "test_index = l[cut:] # last 20% of shuffled list\n",
    "\n",
    "print(train_index[0:10])\n",
    "print(test_index[0:10])\n",
    "from sklearn.naive_bayes import MultinomialNB\n",
    "from sklearn.metrics import accuracy_score\n",
    "import time\n",
    "\n",
    "def train_MNB_model(X,Y,i_print=False):\n",
    "\n",
    "    if(i_print):\n",
    "        print(X.shape,Y.shape)\n",
    "\n",
    "    #SPLIT\n",
    "    x_train=X[train_index]\n",
    "    y_train=Y[train_index].flatten()\n",
    "\n",
    "    x_test=X[test_index]\n",
    "    y_test=Y[test_index].flatten()\n",
    "\n",
    "    # INITIALIZE MODEL \n",
    "    model = MultinomialNB()\n",
    "\n",
    "    # TRAIN MODEL \n",
    "    start = time.process_time()\n",
    "    model.fit(x_train,y_train)\n",
    "    time_train=time.process_time() - start\n",
    "\n",
    "    # LABEL PREDICTIONS FOR TRAINING AND TEST SET \n",
    "    start = time.process_time()\n",
    "    yp_train = model.predict(x_train)\n",
    "    yp_test = model.predict(x_test)\n",
    "    time_eval=time.process_time() - start\n",
    "\n",
    "    acc_train= accuracy_score(y_train, yp_train)*100\n",
    "    acc_test= accuracy_score(y_test, yp_test)*100\n",
    "\n",
    "    if(i_print):\n",
    "        print(acc_train,acc_test,time_train,time_eval)\n",
    "\n",
    "    return (acc_train,acc_test,time_train,time_eval)\n",
    "def initialize_arrays():\n",
    "    global num_features,train_accuracies\n",
    "    global test_accuracies,train_time,eval_time\n",
    "    num_features=[]\n",
    "    train_accuracies=[]\n",
    "    test_accuracies=[]\n",
    "    train_time=[]\n",
    "    eval_time=[]\n",
    "# INITIALIZE ARRAYS\n",
    "initialize_arrays()\n",
    "\n",
    "# DEFINE SEARCH FUNCTION\n",
    "def partial_grid_search(num_runs, min_index, max_index):\n",
    "    for i in range(1, num_runs+1):\n",
    "        # SUBSET FEATURES \n",
    "        upper_index=min_index+i*int((max_index-min_index)/num_runs)\n",
    "        xtmp=x[:,0:upper_index]\n",
    "\n",
    "        #TRAIN \n",
    "        (acc_train,acc_test,time_train,time_eval)=train_MNB_model(xtmp,y,i_print=False)\n",
    "\n",
    "        if(i%5==0):\n",
    "            print(i,upper_index,xtmp.shape[1],acc_train,acc_test)\n",
    "            \n",
    "        #RECORD \n",
    "        num_features.append(xtmp.shape[1])\n",
    "        train_accuracies.append(acc_train)\n",
    "        test_accuracies.append(acc_test)\n",
    "        train_time.append(time_train)\n",
    "        eval_time.append(time_eval)\n",
    "\n",
    "# DENSE SEARCH (SMALL NUMBER OF FEATURES (FAST))\n",
    "#partial_grid_search(num_runs=100, min_index=0, max_index=1000)\n",
    "\n",
    "# SPARSE SEARCH (LARGE NUMBER OF FEATURES (SLOWER))\n",
    "#partial_grid_search(num_runs=20, min_index=1000, max_index=10000)\n",
    "def save_results(path_root):\n",
    "    out=np.transpose(np.array([num_features,train_accuracies,test_accuracies,train_time,eval_time])) \n",
    "    out=pd.DataFrame(out)\n",
    "    out.to_csv(path_root+\".csv\")\n",
    "def plot_results(path_root):\n",
    "\n",
    "    #PLOT-1\n",
    "    plt.plot(num_features,train_accuracies,'-or')\n",
    "    plt.plot(num_features,test_accuracies,'-ob')\n",
    "    plt.xlabel('Number of features')\n",
    "    plt.ylabel('ACCURACY: Training (blue) and Test (red)')\n",
    "    plt.savefig(path_root+'-1.png')\n",
    "    plt.show()\n",
    "\n",
    "    # #PLOT-2\n",
    "    plt.plot(num_features,train_time,'-or')\n",
    "    plt.plot(num_features,eval_time,'-ob')\n",
    "    plt.xlabel('Number of features')\n",
    "    plt.ylabel('Runtime: training time (red) and evaluation time(blue)')\n",
    "    plt.savefig(path_root+'-2.png')\n",
    "    plt.show()\n",
    "\n",
    "    # #PLOT-3\n",
    "    plt.plot(np.array(test_accuracies),train_time,'-or')\n",
    "    plt.plot(np.array(test_accuracies),eval_time,'-ob')\n",
    "    plt.xlabel('test_accuracies')\n",
    "    plt.ylabel('Runtime: training time (red) and evaluation time (blue)')\n",
    "    plt.savefig(path_root+'-3.png')\n",
    "    plt.show()\n",
    "\n",
    "    # #PLOT-3\n",
    "    plt.plot(num_features,np.array(train_accuracies)-np.array(test_accuracies),'-or')\n",
    "    plt.xlabel('Number of features')\n",
    "    plt.ylabel('train_accuracies-test_accuracies')\n",
    "    plt.savefig(path_root+'-4.png')\n",
    "    plt.show()"
   ]
  },
  {
   "cell_type": "markdown",
   "metadata": {},
   "source": [
    "# Naive Bayes with Labeled Record Data"
   ]
  },
  {
   "cell_type": "markdown",
   "metadata": {},
   "source": [
    "Now I will perform the Naive Bayes algorithm on my now labeled record data."
   ]
  },
  {
   "cell_type": "markdown",
   "metadata": {},
   "source": [
    "To avoid overfitting, it is imperative that I split my data into a training and testing set. The training set will allow my model to learn the relationships in the data, while the testing set will prevent the model from just \"memorizing\" the training data, as it has to perform well on new data it has not seen before. This balance between bias and variance is key in machine learning."
   ]
  },
  {
   "cell_type": "code",
   "execution_count": 35,
   "metadata": {},
   "outputs": [
    {
     "name": "stdout",
     "output_type": "stream",
     "text": [
      "              precision    recall  f1-score   support\n",
      "\n",
      "           0       1.00      0.58      0.74        43\n",
      "           1       0.51      1.00      0.68        19\n",
      "\n",
      "    accuracy                           0.71        62\n",
      "   macro avg       0.76      0.79      0.71        62\n",
      "weighted avg       0.85      0.71      0.72        62\n",
      "\n"
     ]
    },
    {
     "data": {
      "image/png": "[encoded data removed]",
      "text/plain": [
       "<Figure size 640x480 with 2 Axes>"
      ]
     },
     "metadata": {},
     "output_type": "display_data"
    }
   ],
   "source": [
    "from sklearn.model_selection import train_test_split\n",
    "from sklearn.naive_bayes import GaussianNB\n",
    "from sklearn.metrics import accuracy_score\n",
    "from sklearn.metrics import confusion_matrix, classification_report\n",
    "import seaborn as sns\n",
    "X=record.drop(['Typical Home Value'],axis=1)\n",
    "y=record['Typical Home Value']\n",
    "X_train, X_test, y_train, y_test = train_test_split(X, y, test_size = 0.3, random_state = 0)\n",
    "naive = GaussianNB()\n",
    "naive.fit(X_train, y_train)\n",
    "y_pred=naive.predict(X_test)\n",
    "print(classification_report(y_test, y_pred))\n",
    "cm = confusion_matrix(y_test, y_pred)\n",
    "cm_df = pd.DataFrame(cm, index=['Actual 0', 'Actual 1'], columns=['Predicted 0', 'Predicted 1'])\n",
    "sns.heatmap(cm_df, annot=True,)\n",
    "plt.xlabel('Predicted label')\n",
    "plt.ylabel('True label')\n",
    "plt.title('Confusion Matrix')\n",
    "plt.show()"
   ]
  },
  {
   "cell_type": "markdown",
   "metadata": {},
   "source": [
    "Predicting the most frequent class:"
   ]
  },
  {
   "cell_type": "code",
   "execution_count": 36,
   "metadata": {},
   "outputs": [
    {
     "data": {
      "text/plain": [
       "0.6935483870967742"
      ]
     },
     "execution_count": 36,
     "metadata": {},
     "output_type": "execute_result"
    }
   ],
   "source": [
    "y_test.value_counts()\n",
    "43/(43+19)"
   ]
  },
  {
   "cell_type": "markdown",
   "metadata": {},
   "source": [
    "Accuracy on training data:"
   ]
  },
  {
   "cell_type": "code",
   "execution_count": 43,
   "metadata": {},
   "outputs": [
    {
     "data": {
      "text/plain": [
       "0.6338028169014085"
      ]
     },
     "execution_count": 43,
     "metadata": {},
     "output_type": "execute_result"
    }
   ],
   "source": [
    "y_pred_train=naive.predict(X_train)\n",
    "accuracy_score(y_train, y_pred_train)"
   ]
  },
  {
   "cell_type": "markdown",
   "metadata": {},
   "source": [
    "Overall, this model performs poorly. As you can see, it barley performs better than if you were to pick the most frequent class. Furthermore, the training accuracy is very low. This tells us there is some underfitting going on, meaning the bias is high. While Naive Bayes has its uses, for the purposes of my project I will be moving on to other supervised and unsupervised learning methods to hopefully create a model that produces meaningful results."
   ]
  },
  {
   "cell_type": "markdown",
   "metadata": {},
   "source": [
    "# Naive Bayes with Labeled Text Data"
   ]
  },
  {
   "cell_type": "markdown",
   "metadata": {},
   "source": [
    "The text data was not very relevant to my project and something happened to my text data, so the code below does not work properly and produce a result that makes sense. It was not worth it to remedy the issue."
   ]
  },
  {
   "cell_type": "code",
   "execution_count": 44,
   "metadata": {},
   "outputs": [],
   "source": [
    "def train_MNB_model(X,Y,i_print=False):\n",
    "\n",
    "    if(i_print):\n",
    "        print(X.shape,Y.shape)\n",
    "\n",
    "    #SPLIT\n",
    "    x_train=X[train_index]\n",
    "    y_train=Y[train_index].flatten()\n",
    "\n",
    "    x_test=X[test_index]\n",
    "    y_test=Y[test_index].flatten()\n",
    "\n",
    "    # INITIALIZE MODEL \n",
    "    model = MultinomialNB()\n",
    "\n",
    "    # TRAIN MODEL \n",
    "    start = time.process_time()\n",
    "    model.fit(x_train,y_train)\n",
    "    time_train=time.process_time() - start\n",
    "\n",
    "    # LABEL PREDICTIONS FOR TRAINING AND TEST SET \n",
    "    start = time.process_time()\n",
    "    yp_train = model.predict(x_train)\n",
    "    yp_test = model.predict(x_test)\n",
    "    time_eval=time.process_time() - start\n",
    "\n",
    "    acc_train= accuracy_score(y_train, yp_train)*100\n",
    "    acc_test= accuracy_score(y_test, yp_test)*100\n"
   ]
  },
  {
   "cell_type": "markdown",
   "metadata": {},
   "source": [
    "We have 100 percent accuracy on training set and 70 percent accuracy on the test set, so overall not a bad model."
   ]
  }
 ],
 "metadata": {
  "kernelspec": {
   "display_name": "base",
   "language": "python",
   "name": "python3"
  },
  "language_info": {
   "codemirror_mode": {
    "name": "ipython",
    "version": 3
   },
   "file_extension": ".py",
   "mimetype": "text/x-python",
   "name": "python",
   "nbconvert_exporter": "python",
   "pygments_lexer": "ipython3",
   "version": "3.11.5"
  }
 },
 "nbformat": 4,
 "nbformat_minor": 2
}
