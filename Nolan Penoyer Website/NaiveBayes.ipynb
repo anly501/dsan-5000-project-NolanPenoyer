{
 "cells": [
  {
   "cell_type": "markdown",
   "metadata": {},
   "source": [
    "---\n",
    "title: \"Naive Bayes\"\n",
    "format: html\n",
    "---"
   ]
  },
  {
   "cell_type": "markdown",
   "metadata": {},
   "source": [
    "# Introduction to Naive Bayes"
   ]
  },
  {
   "cell_type": "markdown",
   "metadata": {},
   "source": [
    "Naive Bayes is a supervised machine learning algorithm used for classification tasks. The algorithm is rooted in Bayes Theorem in that it is based on the probability of a hypothesis, given data and prior knowledge. Below is the equation the Naive Bayes Algorithm uses."
   ]
  },
  {
   "cell_type": "markdown",
   "metadata": {},
   "source": [
    "![](./images/Bayes_rule.png)"
   ]
  },
  {
   "cell_type": "markdown",
   "metadata": {},
   "source": [
    "https://www.saedsayad.com/naive_bayesian.htm"
   ]
  },
  {
   "cell_type": "markdown",
   "metadata": {},
   "source": [
    "Where P(c|x)= The probability of the target variable class given the features <br>\n",
    "P(x|c)= The probability of the features given the class <br>\n",
    "and P(c), P(x) are the prior probabilties of the target variable class and features."
   ]
  },
  {
   "cell_type": "markdown",
   "metadata": {},
   "source": [
    "The algorithm estimates the probability of each class for a given data point and assing the class with the highest probability to the data point."
   ]
  },
  {
   "cell_type": "markdown",
   "metadata": {},
   "source": [
    "It assumes that all features are independent of each other; this is usually not the case in the real world but the algorithm still provides accurate predictions."
   ]
  },
  {
   "cell_type": "markdown",
   "metadata": {},
   "source": [
    "Ultimatley, through Naive Bayes you want to acheive accurate classifications given the algoirthm is given data with a set of variables. In my case, I would like to predict if a certain state's home value will increase substantially in a certain year based on census data."
   ]
  },
  {
   "cell_type": "markdown",
   "metadata": {},
   "source": [
    "Different variants of Naive Bayes are used for different applications. Multinomial Naive Bayes is used for word counts and frequency analysis (discrete data). Gaussian Naive Bayes is used for numeric data that is approximatley normally distributed and independent. Bernoulli Naive Bayes is used for binary data, like if a word appears in a document or not."
   ]
  },
  {
   "cell_type": "markdown",
   "metadata": {},
   "source": [
    "# Prepare Data for Naive Bayes"
   ]
  },
  {
   "cell_type": "code",
   "execution_count": 24,
   "metadata": {},
   "outputs": [],
   "source": [
    "import pandas as pd"
   ]
  },
  {
   "cell_type": "code",
   "execution_count": 25,
   "metadata": {},
   "outputs": [],
   "source": [
    "record=pd.read_csv('data/RecordData.csv')\n",
    "record=record.drop('DP05_0073E',axis=1)"
   ]
  },
  {
   "cell_type": "code",
   "execution_count": 26,
   "metadata": {},
   "outputs": [
    {
     "data": {
      "text/html": [
       "<div>\n",
       "<style scoped>\n",
       "    .dataframe tbody tr th:only-of-type {\n",
       "        vertical-align: middle;\n",
       "    }\n",
       "\n",
       "    .dataframe tbody tr th {\n",
       "        vertical-align: top;\n",
       "    }\n",
       "\n",
       "    .dataframe thead th {\n",
       "        text-align: right;\n",
       "    }\n",
       "</style>\n",
       "<table border=\"1\" class=\"dataframe\">\n",
       "  <thead>\n",
       "    <tr style=\"text-align: right;\">\n",
       "      <th></th>\n",
       "      <th>Year</th>\n",
       "      <th>DP02_0001E</th>\n",
       "      <th>DP02_0002E</th>\n",
       "      <th>DP02_0003E</th>\n",
       "      <th>DP02_0007E</th>\n",
       "      <th>DP02_0011E</th>\n",
       "      <th>DP02_0037E</th>\n",
       "      <th>DP02_0060E</th>\n",
       "      <th>DP02_0061E</th>\n",
       "      <th>DP02_0062E</th>\n",
       "      <th>...</th>\n",
       "      <th>DP04_0134E</th>\n",
       "      <th>DP05_0001E</th>\n",
       "      <th>DP05_0004E</th>\n",
       "      <th>DP05_0018E</th>\n",
       "      <th>DP05_0037E</th>\n",
       "      <th>DP05_0038E</th>\n",
       "      <th>DP05_0039E</th>\n",
       "      <th>DP05_0044E</th>\n",
       "      <th>RegionName</th>\n",
       "      <th>Typical Home Value</th>\n",
       "    </tr>\n",
       "  </thead>\n",
       "  <tbody>\n",
       "    <tr>\n",
       "      <th>0</th>\n",
       "      <td>2018</td>\n",
       "      <td>0.007341</td>\n",
       "      <td>0.009226</td>\n",
       "      <td>-0.008186</td>\n",
       "      <td>0.090413</td>\n",
       "      <td>0.007228</td>\n",
       "      <td>0.004783</td>\n",
       "      <td>0.022710</td>\n",
       "      <td>-0.002918</td>\n",
       "      <td>0.018174</td>\n",
       "      <td>...</td>\n",
       "      <td>0.050667</td>\n",
       "      <td>0.002692</td>\n",
       "      <td>0.003198</td>\n",
       "      <td>0.010283</td>\n",
       "      <td>-0.001775</td>\n",
       "      <td>-0.000327</td>\n",
       "      <td>-0.123824</td>\n",
       "      <td>-0.027097</td>\n",
       "      <td>Alabama</td>\n",
       "      <td>0.038688</td>\n",
       "    </tr>\n",
       "    <tr>\n",
       "      <th>1</th>\n",
       "      <td>2019</td>\n",
       "      <td>0.022851</td>\n",
       "      <td>-0.265678</td>\n",
       "      <td>-0.360479</td>\n",
       "      <td>-0.317095</td>\n",
       "      <td>-0.802204</td>\n",
       "      <td>1.302990</td>\n",
       "      <td>-0.588360</td>\n",
       "      <td>-0.705200</td>\n",
       "      <td>0.439418</td>\n",
       "      <td>...</td>\n",
       "      <td>0.024112</td>\n",
       "      <td>0.003133</td>\n",
       "      <td>-0.006376</td>\n",
       "      <td>0.002545</td>\n",
       "      <td>0.005908</td>\n",
       "      <td>0.009572</td>\n",
       "      <td>0.054480</td>\n",
       "      <td>0.015884</td>\n",
       "      <td>Alabama</td>\n",
       "      <td>0.070360</td>\n",
       "    </tr>\n",
       "    <tr>\n",
       "      <th>2</th>\n",
       "      <td>2021</td>\n",
       "      <td>0.036880</td>\n",
       "      <td>0.013836</td>\n",
       "      <td>0.056032</td>\n",
       "      <td>-0.010988</td>\n",
       "      <td>0.081890</td>\n",
       "      <td>-0.050374</td>\n",
       "      <td>-0.025077</td>\n",
       "      <td>-0.044056</td>\n",
       "      <td>0.038532</td>\n",
       "      <td>...</td>\n",
       "      <td>0.066914</td>\n",
       "      <td>0.027878</td>\n",
       "      <td>0.008556</td>\n",
       "      <td>0.010152</td>\n",
       "      <td>-0.013376</td>\n",
       "      <td>-0.010947</td>\n",
       "      <td>0.067268</td>\n",
       "      <td>0.040587</td>\n",
       "      <td>Alabama</td>\n",
       "      <td>0.263465</td>\n",
       "    </tr>\n",
       "    <tr>\n",
       "      <th>3</th>\n",
       "      <td>2022</td>\n",
       "      <td>0.024848</td>\n",
       "      <td>0.041137</td>\n",
       "      <td>0.053954</td>\n",
       "      <td>-0.058821</td>\n",
       "      <td>0.009307</td>\n",
       "      <td>0.106362</td>\n",
       "      <td>-0.070979</td>\n",
       "      <td>-0.062720</td>\n",
       "      <td>-0.020504</td>\n",
       "      <td>...</td>\n",
       "      <td>0.060395</td>\n",
       "      <td>0.006829</td>\n",
       "      <td>-0.001060</td>\n",
       "      <td>-0.005025</td>\n",
       "      <td>0.006291</td>\n",
       "      <td>-0.002353</td>\n",
       "      <td>-0.017318</td>\n",
       "      <td>0.146484</td>\n",
       "      <td>Alabama</td>\n",
       "      <td>0.076587</td>\n",
       "    </tr>\n",
       "    <tr>\n",
       "      <th>4</th>\n",
       "      <td>2018</td>\n",
       "      <td>0.015195</td>\n",
       "      <td>0.000753</td>\n",
       "      <td>-0.043082</td>\n",
       "      <td>-0.078405</td>\n",
       "      <td>0.043289</td>\n",
       "      <td>0.942898</td>\n",
       "      <td>-0.208181</td>\n",
       "      <td>0.031255</td>\n",
       "      <td>0.017837</td>\n",
       "      <td>...</td>\n",
       "      <td>-0.019983</td>\n",
       "      <td>-0.003186</td>\n",
       "      <td>-0.009174</td>\n",
       "      <td>0.011594</td>\n",
       "      <td>-0.000634</td>\n",
       "      <td>0.139775</td>\n",
       "      <td>0.012942</td>\n",
       "      <td>-0.060828</td>\n",
       "      <td>Alaska</td>\n",
       "      <td>0.005789</td>\n",
       "    </tr>\n",
       "  </tbody>\n",
       "</table>\n",
       "<p>5 rows × 33 columns</p>\n",
       "</div>"
      ],
      "text/plain": [
       "   Year  DP02_0001E  DP02_0002E  DP02_0003E  DP02_0007E  DP02_0011E  \\\n",
       "0  2018    0.007341    0.009226   -0.008186    0.090413    0.007228   \n",
       "1  2019    0.022851   -0.265678   -0.360479   -0.317095   -0.802204   \n",
       "2  2021    0.036880    0.013836    0.056032   -0.010988    0.081890   \n",
       "3  2022    0.024848    0.041137    0.053954   -0.058821    0.009307   \n",
       "4  2018    0.015195    0.000753   -0.043082   -0.078405    0.043289   \n",
       "\n",
       "   DP02_0037E  DP02_0060E  DP02_0061E  DP02_0062E  ...  DP04_0134E  \\\n",
       "0    0.004783    0.022710   -0.002918    0.018174  ...    0.050667   \n",
       "1    1.302990   -0.588360   -0.705200    0.439418  ...    0.024112   \n",
       "2   -0.050374   -0.025077   -0.044056    0.038532  ...    0.066914   \n",
       "3    0.106362   -0.070979   -0.062720   -0.020504  ...    0.060395   \n",
       "4    0.942898   -0.208181    0.031255    0.017837  ...   -0.019983   \n",
       "\n",
       "   DP05_0001E  DP05_0004E  DP05_0018E  DP05_0037E  DP05_0038E  DP05_0039E  \\\n",
       "0    0.002692    0.003198    0.010283   -0.001775   -0.000327   -0.123824   \n",
       "1    0.003133   -0.006376    0.002545    0.005908    0.009572    0.054480   \n",
       "2    0.027878    0.008556    0.010152   -0.013376   -0.010947    0.067268   \n",
       "3    0.006829   -0.001060   -0.005025    0.006291   -0.002353   -0.017318   \n",
       "4   -0.003186   -0.009174    0.011594   -0.000634    0.139775    0.012942   \n",
       "\n",
       "   DP05_0044E  RegionName  Typical Home Value  \n",
       "0   -0.027097     Alabama            0.038688  \n",
       "1    0.015884     Alabama            0.070360  \n",
       "2    0.040587     Alabama            0.263465  \n",
       "3    0.146484     Alabama            0.076587  \n",
       "4   -0.060828      Alaska            0.005789  \n",
       "\n",
       "[5 rows x 33 columns]"
      ]
     },
     "execution_count": 26,
     "metadata": {},
     "output_type": "execute_result"
    }
   ],
   "source": [
    "record.head()"
   ]
  },
  {
   "cell_type": "markdown",
   "metadata": {},
   "source": [
    "Currently my explanatory variable is continuious. I must change it to a label variable. To do this, I will choose home value percent changes that are above the mean to 1s, home value percent changes that are below the mean below the mean to 0s."
   ]
  },
  {
   "cell_type": "code",
   "execution_count": 27,
   "metadata": {},
   "outputs": [],
   "source": [
    "mean=record['Typical Home Value'].mean()\n",
    "record['Typical Home Value']=record['Typical Home Value'].apply(lambda x:1 if x>mean else 0)"
   ]
  },
  {
   "cell_type": "code",
   "execution_count": 30,
   "metadata": {},
   "outputs": [],
   "source": [
    "record=record.drop(['Year','RegionName'],axis=1)"
   ]
  },
  {
   "cell_type": "code",
   "execution_count": 31,
   "metadata": {},
   "outputs": [
    {
     "data": {
      "text/html": [
       "<div>\n",
       "<style scoped>\n",
       "    .dataframe tbody tr th:only-of-type {\n",
       "        vertical-align: middle;\n",
       "    }\n",
       "\n",
       "    .dataframe tbody tr th {\n",
       "        vertical-align: top;\n",
       "    }\n",
       "\n",
       "    .dataframe thead th {\n",
       "        text-align: right;\n",
       "    }\n",
       "</style>\n",
       "<table border=\"1\" class=\"dataframe\">\n",
       "  <thead>\n",
       "    <tr style=\"text-align: right;\">\n",
       "      <th></th>\n",
       "      <th>DP02_0001E</th>\n",
       "      <th>DP02_0002E</th>\n",
       "      <th>DP02_0003E</th>\n",
       "      <th>DP02_0007E</th>\n",
       "      <th>DP02_0011E</th>\n",
       "      <th>DP02_0037E</th>\n",
       "      <th>DP02_0060E</th>\n",
       "      <th>DP02_0061E</th>\n",
       "      <th>DP02_0062E</th>\n",
       "      <th>DP02_0063E</th>\n",
       "      <th>...</th>\n",
       "      <th>DP04_0047E</th>\n",
       "      <th>DP04_0134E</th>\n",
       "      <th>DP05_0001E</th>\n",
       "      <th>DP05_0004E</th>\n",
       "      <th>DP05_0018E</th>\n",
       "      <th>DP05_0037E</th>\n",
       "      <th>DP05_0038E</th>\n",
       "      <th>DP05_0039E</th>\n",
       "      <th>DP05_0044E</th>\n",
       "      <th>Typical Home Value</th>\n",
       "    </tr>\n",
       "  </thead>\n",
       "  <tbody>\n",
       "    <tr>\n",
       "      <th>0</th>\n",
       "      <td>0.007341</td>\n",
       "      <td>0.009226</td>\n",
       "      <td>-0.008186</td>\n",
       "      <td>0.090413</td>\n",
       "      <td>0.007228</td>\n",
       "      <td>0.004783</td>\n",
       "      <td>0.022710</td>\n",
       "      <td>-0.002918</td>\n",
       "      <td>0.018174</td>\n",
       "      <td>0.033732</td>\n",
       "      <td>...</td>\n",
       "      <td>0.007581</td>\n",
       "      <td>0.050667</td>\n",
       "      <td>0.002692</td>\n",
       "      <td>0.003198</td>\n",
       "      <td>0.010283</td>\n",
       "      <td>-0.001775</td>\n",
       "      <td>-0.000327</td>\n",
       "      <td>-0.123824</td>\n",
       "      <td>-0.027097</td>\n",
       "      <td>0</td>\n",
       "    </tr>\n",
       "    <tr>\n",
       "      <th>1</th>\n",
       "      <td>0.022851</td>\n",
       "      <td>-0.265678</td>\n",
       "      <td>-0.360479</td>\n",
       "      <td>-0.317095</td>\n",
       "      <td>-0.802204</td>\n",
       "      <td>1.302990</td>\n",
       "      <td>-0.588360</td>\n",
       "      <td>-0.705200</td>\n",
       "      <td>0.439418</td>\n",
       "      <td>1.429793</td>\n",
       "      <td>...</td>\n",
       "      <td>-0.000968</td>\n",
       "      <td>0.024112</td>\n",
       "      <td>0.003133</td>\n",
       "      <td>-0.006376</td>\n",
       "      <td>0.002545</td>\n",
       "      <td>0.005908</td>\n",
       "      <td>0.009572</td>\n",
       "      <td>0.054480</td>\n",
       "      <td>0.015884</td>\n",
       "      <td>0</td>\n",
       "    </tr>\n",
       "    <tr>\n",
       "      <th>2</th>\n",
       "      <td>0.036880</td>\n",
       "      <td>0.013836</td>\n",
       "      <td>0.056032</td>\n",
       "      <td>-0.010988</td>\n",
       "      <td>0.081890</td>\n",
       "      <td>-0.050374</td>\n",
       "      <td>-0.025077</td>\n",
       "      <td>-0.044056</td>\n",
       "      <td>0.038532</td>\n",
       "      <td>0.007408</td>\n",
       "      <td>...</td>\n",
       "      <td>-0.004602</td>\n",
       "      <td>0.066914</td>\n",
       "      <td>0.027878</td>\n",
       "      <td>0.008556</td>\n",
       "      <td>0.010152</td>\n",
       "      <td>-0.013376</td>\n",
       "      <td>-0.010947</td>\n",
       "      <td>0.067268</td>\n",
       "      <td>0.040587</td>\n",
       "      <td>1</td>\n",
       "    </tr>\n",
       "    <tr>\n",
       "      <th>3</th>\n",
       "      <td>0.024848</td>\n",
       "      <td>0.041137</td>\n",
       "      <td>0.053954</td>\n",
       "      <td>-0.058821</td>\n",
       "      <td>0.009307</td>\n",
       "      <td>0.106362</td>\n",
       "      <td>-0.070979</td>\n",
       "      <td>-0.062720</td>\n",
       "      <td>-0.020504</td>\n",
       "      <td>0.014854</td>\n",
       "      <td>...</td>\n",
       "      <td>0.017788</td>\n",
       "      <td>0.060395</td>\n",
       "      <td>0.006829</td>\n",
       "      <td>-0.001060</td>\n",
       "      <td>-0.005025</td>\n",
       "      <td>0.006291</td>\n",
       "      <td>-0.002353</td>\n",
       "      <td>-0.017318</td>\n",
       "      <td>0.146484</td>\n",
       "      <td>0</td>\n",
       "    </tr>\n",
       "    <tr>\n",
       "      <th>4</th>\n",
       "      <td>0.015195</td>\n",
       "      <td>0.000753</td>\n",
       "      <td>-0.043082</td>\n",
       "      <td>-0.078405</td>\n",
       "      <td>0.043289</td>\n",
       "      <td>0.942898</td>\n",
       "      <td>-0.208181</td>\n",
       "      <td>0.031255</td>\n",
       "      <td>0.017837</td>\n",
       "      <td>-0.065209</td>\n",
       "      <td>...</td>\n",
       "      <td>-0.043262</td>\n",
       "      <td>-0.019983</td>\n",
       "      <td>-0.003186</td>\n",
       "      <td>-0.009174</td>\n",
       "      <td>0.011594</td>\n",
       "      <td>-0.000634</td>\n",
       "      <td>0.139775</td>\n",
       "      <td>0.012942</td>\n",
       "      <td>-0.060828</td>\n",
       "      <td>0</td>\n",
       "    </tr>\n",
       "  </tbody>\n",
       "</table>\n",
       "<p>5 rows × 31 columns</p>\n",
       "</div>"
      ],
      "text/plain": [
       "   DP02_0001E  DP02_0002E  DP02_0003E  DP02_0007E  DP02_0011E  DP02_0037E  \\\n",
       "0    0.007341    0.009226   -0.008186    0.090413    0.007228    0.004783   \n",
       "1    0.022851   -0.265678   -0.360479   -0.317095   -0.802204    1.302990   \n",
       "2    0.036880    0.013836    0.056032   -0.010988    0.081890   -0.050374   \n",
       "3    0.024848    0.041137    0.053954   -0.058821    0.009307    0.106362   \n",
       "4    0.015195    0.000753   -0.043082   -0.078405    0.043289    0.942898   \n",
       "\n",
       "   DP02_0060E  DP02_0061E  DP02_0062E  DP02_0063E  ...  DP04_0047E  \\\n",
       "0    0.022710   -0.002918    0.018174    0.033732  ...    0.007581   \n",
       "1   -0.588360   -0.705200    0.439418    1.429793  ...   -0.000968   \n",
       "2   -0.025077   -0.044056    0.038532    0.007408  ...   -0.004602   \n",
       "3   -0.070979   -0.062720   -0.020504    0.014854  ...    0.017788   \n",
       "4   -0.208181    0.031255    0.017837   -0.065209  ...   -0.043262   \n",
       "\n",
       "   DP04_0134E  DP05_0001E  DP05_0004E  DP05_0018E  DP05_0037E  DP05_0038E  \\\n",
       "0    0.050667    0.002692    0.003198    0.010283   -0.001775   -0.000327   \n",
       "1    0.024112    0.003133   -0.006376    0.002545    0.005908    0.009572   \n",
       "2    0.066914    0.027878    0.008556    0.010152   -0.013376   -0.010947   \n",
       "3    0.060395    0.006829   -0.001060   -0.005025    0.006291   -0.002353   \n",
       "4   -0.019983   -0.003186   -0.009174    0.011594   -0.000634    0.139775   \n",
       "\n",
       "   DP05_0039E  DP05_0044E  Typical Home Value  \n",
       "0   -0.123824   -0.027097                   0  \n",
       "1    0.054480    0.015884                   0  \n",
       "2    0.067268    0.040587                   1  \n",
       "3   -0.017318    0.146484                   0  \n",
       "4    0.012942   -0.060828                   0  \n",
       "\n",
       "[5 rows x 31 columns]"
      ]
     },
     "execution_count": 31,
     "metadata": {},
     "output_type": "execute_result"
    }
   ],
   "source": [
    "record.head()"
   ]
  },
  {
   "cell_type": "markdown",
   "metadata": {},
   "source": [
    "# Naive Bayes with Labeled Record Data"
   ]
  },
  {
   "cell_type": "code",
   "execution_count": 44,
   "metadata": {},
   "outputs": [],
   "source": [
    "from sklearn.model_selection import train_test_split\n",
    "from sklearn.naive_bayes import GaussianNB\n",
    "from sklearn.metrics import accuracy_score"
   ]
  },
  {
   "cell_type": "code",
   "execution_count": 36,
   "metadata": {},
   "outputs": [],
   "source": [
    "X=record.drop(['Typical Home Value'],axis=1)\n",
    "y=record['Typical Home Value']"
   ]
  },
  {
   "cell_type": "code",
   "execution_count": 38,
   "metadata": {},
   "outputs": [],
   "source": [
    "X_train, X_test, y_train, y_test = train_test_split(X, y, test_size = 0.3, random_state = 0)"
   ]
  },
  {
   "cell_type": "code",
   "execution_count": 39,
   "metadata": {},
   "outputs": [
    {
     "data": {
      "text/plain": [
       "((142, 30), (62, 30))"
      ]
     },
     "execution_count": 39,
     "metadata": {},
     "output_type": "execute_result"
    }
   ],
   "source": [
    "X_train.shape, X_test.shape"
   ]
  },
  {
   "cell_type": "code",
   "execution_count": 41,
   "metadata": {},
   "outputs": [
    {
     "data": {
      "text/html": [
       "<style>#sk-container-id-1 {color: black;}#sk-container-id-1 pre{padding: 0;}#sk-container-id-1 div.sk-toggleable {background-color: white;}#sk-container-id-1 label.sk-toggleable__label {cursor: pointer;display: block;width: 100%;margin-bottom: 0;padding: 0.3em;box-sizing: border-box;text-align: center;}#sk-container-id-1 label.sk-toggleable__label-arrow:before {content: \"▸\";float: left;margin-right: 0.25em;color: #696969;}#sk-container-id-1 label.sk-toggleable__label-arrow:hover:before {color: black;}#sk-container-id-1 div.sk-estimator:hover label.sk-toggleable__label-arrow:before {color: black;}#sk-container-id-1 div.sk-toggleable__content {max-height: 0;max-width: 0;overflow: hidden;text-align: left;background-color: #f0f8ff;}#sk-container-id-1 div.sk-toggleable__content pre {margin: 0.2em;color: black;border-radius: 0.25em;background-color: #f0f8ff;}#sk-container-id-1 input.sk-toggleable__control:checked~div.sk-toggleable__content {max-height: 200px;max-width: 100%;overflow: auto;}#sk-container-id-1 input.sk-toggleable__control:checked~label.sk-toggleable__label-arrow:before {content: \"▾\";}#sk-container-id-1 div.sk-estimator input.sk-toggleable__control:checked~label.sk-toggleable__label {background-color: #d4ebff;}#sk-container-id-1 div.sk-label input.sk-toggleable__control:checked~label.sk-toggleable__label {background-color: #d4ebff;}#sk-container-id-1 input.sk-hidden--visually {border: 0;clip: rect(1px 1px 1px 1px);clip: rect(1px, 1px, 1px, 1px);height: 1px;margin: -1px;overflow: hidden;padding: 0;position: absolute;width: 1px;}#sk-container-id-1 div.sk-estimator {font-family: monospace;background-color: #f0f8ff;border: 1px dotted black;border-radius: 0.25em;box-sizing: border-box;margin-bottom: 0.5em;}#sk-container-id-1 div.sk-estimator:hover {background-color: #d4ebff;}#sk-container-id-1 div.sk-parallel-item::after {content: \"\";width: 100%;border-bottom: 1px solid gray;flex-grow: 1;}#sk-container-id-1 div.sk-label:hover label.sk-toggleable__label {background-color: #d4ebff;}#sk-container-id-1 div.sk-serial::before {content: \"\";position: absolute;border-left: 1px solid gray;box-sizing: border-box;top: 0;bottom: 0;left: 50%;z-index: 0;}#sk-container-id-1 div.sk-serial {display: flex;flex-direction: column;align-items: center;background-color: white;padding-right: 0.2em;padding-left: 0.2em;position: relative;}#sk-container-id-1 div.sk-item {position: relative;z-index: 1;}#sk-container-id-1 div.sk-parallel {display: flex;align-items: stretch;justify-content: center;background-color: white;position: relative;}#sk-container-id-1 div.sk-item::before, #sk-container-id-1 div.sk-parallel-item::before {content: \"\";position: absolute;border-left: 1px solid gray;box-sizing: border-box;top: 0;bottom: 0;left: 50%;z-index: -1;}#sk-container-id-1 div.sk-parallel-item {display: flex;flex-direction: column;z-index: 1;position: relative;background-color: white;}#sk-container-id-1 div.sk-parallel-item:first-child::after {align-self: flex-end;width: 50%;}#sk-container-id-1 div.sk-parallel-item:last-child::after {align-self: flex-start;width: 50%;}#sk-container-id-1 div.sk-parallel-item:only-child::after {width: 0;}#sk-container-id-1 div.sk-dashed-wrapped {border: 1px dashed gray;margin: 0 0.4em 0.5em 0.4em;box-sizing: border-box;padding-bottom: 0.4em;background-color: white;}#sk-container-id-1 div.sk-label label {font-family: monospace;font-weight: bold;display: inline-block;line-height: 1.2em;}#sk-container-id-1 div.sk-label-container {text-align: center;}#sk-container-id-1 div.sk-container {/* jupyter's `normalize.less` sets `[hidden] { display: none; }` but bootstrap.min.css set `[hidden] { display: none !important; }` so we also need the `!important` here to be able to override the default hidden behavior on the sphinx rendered scikit-learn.org. See: https://github.com/scikit-learn/scikit-learn/issues/21755 */display: inline-block !important;position: relative;}#sk-container-id-1 div.sk-text-repr-fallback {display: none;}</style><div id=\"sk-container-id-1\" class=\"sk-top-container\"><div class=\"sk-text-repr-fallback\"><pre>GaussianNB()</pre><b>In a Jupyter environment, please rerun this cell to show the HTML representation or trust the notebook. <br />On GitHub, the HTML representation is unable to render, please try loading this page with nbviewer.org.</b></div><div class=\"sk-container\" hidden><div class=\"sk-item\"><div class=\"sk-estimator sk-toggleable\"><input class=\"sk-toggleable__control sk-hidden--visually\" id=\"sk-estimator-id-1\" type=\"checkbox\" checked><label for=\"sk-estimator-id-1\" class=\"sk-toggleable__label sk-toggleable__label-arrow\">GaussianNB</label><div class=\"sk-toggleable__content\"><pre>GaussianNB()</pre></div></div></div></div></div>"
      ],
      "text/plain": [
       "GaussianNB()"
      ]
     },
     "execution_count": 41,
     "metadata": {},
     "output_type": "execute_result"
    }
   ],
   "source": [
    "naive = GaussianNB()\n",
    "naive.fit(X_train, y_train)"
   ]
  },
  {
   "cell_type": "code",
   "execution_count": 42,
   "metadata": {},
   "outputs": [],
   "source": [
    "y_pred = naive.predict(X_test)"
   ]
  },
  {
   "cell_type": "code",
   "execution_count": 43,
   "metadata": {},
   "outputs": [
    {
     "data": {
      "text/plain": [
       "array([1, 0, 0, 0, 0, 1, 0, 1, 0, 0, 0, 1, 1, 0, 0, 0, 0, 1, 1, 1, 1, 1,\n",
       "       1, 0, 1, 0, 0, 1, 0, 1, 1, 1, 1, 1, 1, 1, 1, 0, 0, 1, 0, 1, 1, 1,\n",
       "       1, 1, 1, 1, 0, 0, 1, 1, 0, 1, 0, 1, 1, 1, 1, 0, 0, 1], dtype=int64)"
      ]
     },
     "execution_count": 43,
     "metadata": {},
     "output_type": "execute_result"
    }
   ],
   "source": [
    "y_pred "
   ]
  },
  {
   "cell_type": "code",
   "execution_count": 45,
   "metadata": {},
   "outputs": [
    {
     "data": {
      "text/plain": [
       "0.7096774193548387"
      ]
     },
     "execution_count": 45,
     "metadata": {},
     "output_type": "execute_result"
    }
   ],
   "source": [
    "accuracy_score(y_test, y_pred)"
   ]
  },
  {
   "cell_type": "markdown",
   "metadata": {},
   "source": [
    "Fairly accurate for a first model"
   ]
  },
  {
   "cell_type": "code",
   "execution_count": 46,
   "metadata": {},
   "outputs": [],
   "source": [
    "y_pred_train = naive.predict(X_train)"
   ]
  },
  {
   "cell_type": "code",
   "execution_count": 47,
   "metadata": {},
   "outputs": [
    {
     "data": {
      "text/plain": [
       "0.6197183098591549"
      ]
     },
     "execution_count": 47,
     "metadata": {},
     "output_type": "execute_result"
    }
   ],
   "source": [
    "accuracy_score(y_train, y_pred_train)"
   ]
  },
  {
   "cell_type": "markdown",
   "metadata": {},
   "source": [
    "Not very accurate on the training set so there is some undefitting going on."
   ]
  },
  {
   "cell_type": "markdown",
   "metadata": {},
   "source": [
    "May need to examine the data more to remove outliers"
   ]
  },
  {
   "cell_type": "markdown",
   "metadata": {},
   "source": []
  }
 ],
 "metadata": {
  "kernelspec": {
   "display_name": "base",
   "language": "python",
   "name": "python3"
  },
  "language_info": {
   "codemirror_mode": {
    "name": "ipython",
    "version": 3
   },
   "file_extension": ".py",
   "mimetype": "text/x-python",
   "name": "python",
   "nbconvert_exporter": "python",
   "pygments_lexer": "ipython3",
   "version": "3.11.5"
  }
 },
 "nbformat": 4,
 "nbformat_minor": 2
}
