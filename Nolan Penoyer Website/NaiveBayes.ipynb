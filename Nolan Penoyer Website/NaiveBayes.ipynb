{
 "cells": [
  {
   "cell_type": "markdown",
   "metadata": {},
   "source": [
    "---\n",
    "title: \"Naive Bayes\"\n",
    "format: html\n",
    "---"
   ]
  },
  {
   "cell_type": "markdown",
   "metadata": {},
   "source": [
    "# Introduction to Naive Bayes"
   ]
  },
  {
   "cell_type": "markdown",
   "metadata": {},
   "source": [
    "Naive Bayes is a supervised machine learning algorithm used for classification tasks. The algorithm is rooted in Bayes Theorem in that it is based on the probability of a hypothesis, given data and prior knowledge. Below is the equation the Naive Bayes Algorithm uses."
   ]
  },
  {
   "cell_type": "markdown",
   "metadata": {},
   "source": [
    "![](./images/Bayes_rule.png)"
   ]
  },
  {
   "cell_type": "markdown",
   "metadata": {},
   "source": [
    "https://www.saedsayad.com/naive_bayesian.htm"
   ]
  },
  {
   "cell_type": "markdown",
   "metadata": {},
   "source": [
    "Where P(c|x)= The probability of the target variable class given the features <br>\n",
    "P(x|c)= The probability of the features given the class <br>\n",
    "and P(c), P(x) are the prior probabilties of the target variable class and features."
   ]
  },
  {
   "cell_type": "markdown",
   "metadata": {},
   "source": [
    "The algorithm estimates the probability of each class for a given data point and assing the class with the highest probability to the data point."
   ]
  },
  {
   "cell_type": "markdown",
   "metadata": {},
   "source": [
    "It assumes that all features are independent of each other; this is usually not the case in the real world but the algorithm still provides accurate predictions."
   ]
  },
  {
   "cell_type": "markdown",
   "metadata": {},
   "source": [
    "Ultimatley, through Naive Bayes you want to acheive accurate classifications given the algoirthm is given data with a set of variables. In my case, I would like to predict if a certain state's home value will increase substantially in a certain year based on census data."
   ]
  },
  {
   "cell_type": "markdown",
   "metadata": {},
   "source": [
    "Different variants of Naive Bayes are used for different applications. Multinomial Naive Bayes is used for word counts and frequency analysis (discrete data). Gaussian Naive Bayes is used for numeric data that is approximatley normally distributed and independent. Bernoulli Naive Bayes is used for binary data, like if a word appears in a document or not."
   ]
  },
  {
   "cell_type": "markdown",
   "metadata": {},
   "source": [
    "# Prepare Data for Naive Bayes"
   ]
  },
  {
   "cell_type": "code",
   "execution_count": 2,
   "metadata": {},
   "outputs": [],
   "source": [
    "import pandas as pd"
   ]
  },
  {
   "cell_type": "code",
   "execution_count": 25,
   "metadata": {},
   "outputs": [],
   "source": [
    "record=pd.read_csv('data/RecordData.csv')\n",
    "record=record.drop('DP05_0073E',axis=1)"
   ]
  },
  {
   "cell_type": "code",
   "execution_count": 26,
   "metadata": {},
   "outputs": [
    {
     "data": {
      "text/html": [
       "<div>\n",
       "<style scoped>\n",
       "    .dataframe tbody tr th:only-of-type {\n",
       "        vertical-align: middle;\n",
       "    }\n",
       "\n",
       "    .dataframe tbody tr th {\n",
       "        vertical-align: top;\n",
       "    }\n",
       "\n",
       "    .dataframe thead th {\n",
       "        text-align: right;\n",
       "    }\n",
       "</style>\n",
       "<table border=\"1\" class=\"dataframe\">\n",
       "  <thead>\n",
       "    <tr style=\"text-align: right;\">\n",
       "      <th></th>\n",
       "      <th>Year</th>\n",
       "      <th>DP02_0001E</th>\n",
       "      <th>DP02_0002E</th>\n",
       "      <th>DP02_0003E</th>\n",
       "      <th>DP02_0007E</th>\n",
       "      <th>DP02_0011E</th>\n",
       "      <th>DP02_0037E</th>\n",
       "      <th>DP02_0060E</th>\n",
       "      <th>DP02_0061E</th>\n",
       "      <th>DP02_0062E</th>\n",
       "      <th>...</th>\n",
       "      <th>DP04_0134E</th>\n",
       "      <th>DP05_0001E</th>\n",
       "      <th>DP05_0004E</th>\n",
       "      <th>DP05_0018E</th>\n",
       "      <th>DP05_0037E</th>\n",
       "      <th>DP05_0038E</th>\n",
       "      <th>DP05_0039E</th>\n",
       "      <th>DP05_0044E</th>\n",
       "      <th>RegionName</th>\n",
       "      <th>Typical Home Value</th>\n",
       "    </tr>\n",
       "  </thead>\n",
       "  <tbody>\n",
       "    <tr>\n",
       "      <th>0</th>\n",
       "      <td>2018</td>\n",
       "      <td>0.007341</td>\n",
       "      <td>0.009226</td>\n",
       "      <td>-0.008186</td>\n",
       "      <td>0.090413</td>\n",
       "      <td>0.007228</td>\n",
       "      <td>0.004783</td>\n",
       "      <td>0.022710</td>\n",
       "      <td>-0.002918</td>\n",
       "      <td>0.018174</td>\n",
       "      <td>...</td>\n",
       "      <td>0.050667</td>\n",
       "      <td>0.002692</td>\n",
       "      <td>0.003198</td>\n",
       "      <td>0.010283</td>\n",
       "      <td>-0.001775</td>\n",
       "      <td>-0.000327</td>\n",
       "      <td>-0.123824</td>\n",
       "      <td>-0.027097</td>\n",
       "      <td>Alabama</td>\n",
       "      <td>0.038688</td>\n",
       "    </tr>\n",
       "    <tr>\n",
       "      <th>1</th>\n",
       "      <td>2019</td>\n",
       "      <td>0.022851</td>\n",
       "      <td>-0.265678</td>\n",
       "      <td>-0.360479</td>\n",
       "      <td>-0.317095</td>\n",
       "      <td>-0.802204</td>\n",
       "      <td>1.302990</td>\n",
       "      <td>-0.588360</td>\n",
       "      <td>-0.705200</td>\n",
       "      <td>0.439418</td>\n",
       "      <td>...</td>\n",
       "      <td>0.024112</td>\n",
       "      <td>0.003133</td>\n",
       "      <td>-0.006376</td>\n",
       "      <td>0.002545</td>\n",
       "      <td>0.005908</td>\n",
       "      <td>0.009572</td>\n",
       "      <td>0.054480</td>\n",
       "      <td>0.015884</td>\n",
       "      <td>Alabama</td>\n",
       "      <td>0.070360</td>\n",
       "    </tr>\n",
       "    <tr>\n",
       "      <th>2</th>\n",
       "      <td>2021</td>\n",
       "      <td>0.036880</td>\n",
       "      <td>0.013836</td>\n",
       "      <td>0.056032</td>\n",
       "      <td>-0.010988</td>\n",
       "      <td>0.081890</td>\n",
       "      <td>-0.050374</td>\n",
       "      <td>-0.025077</td>\n",
       "      <td>-0.044056</td>\n",
       "      <td>0.038532</td>\n",
       "      <td>...</td>\n",
       "      <td>0.066914</td>\n",
       "      <td>0.027878</td>\n",
       "      <td>0.008556</td>\n",
       "      <td>0.010152</td>\n",
       "      <td>-0.013376</td>\n",
       "      <td>-0.010947</td>\n",
       "      <td>0.067268</td>\n",
       "      <td>0.040587</td>\n",
       "      <td>Alabama</td>\n",
       "      <td>0.263465</td>\n",
       "    </tr>\n",
       "    <tr>\n",
       "      <th>3</th>\n",
       "      <td>2022</td>\n",
       "      <td>0.024848</td>\n",
       "      <td>0.041137</td>\n",
       "      <td>0.053954</td>\n",
       "      <td>-0.058821</td>\n",
       "      <td>0.009307</td>\n",
       "      <td>0.106362</td>\n",
       "      <td>-0.070979</td>\n",
       "      <td>-0.062720</td>\n",
       "      <td>-0.020504</td>\n",
       "      <td>...</td>\n",
       "      <td>0.060395</td>\n",
       "      <td>0.006829</td>\n",
       "      <td>-0.001060</td>\n",
       "      <td>-0.005025</td>\n",
       "      <td>0.006291</td>\n",
       "      <td>-0.002353</td>\n",
       "      <td>-0.017318</td>\n",
       "      <td>0.146484</td>\n",
       "      <td>Alabama</td>\n",
       "      <td>0.076587</td>\n",
       "    </tr>\n",
       "    <tr>\n",
       "      <th>4</th>\n",
       "      <td>2018</td>\n",
       "      <td>0.015195</td>\n",
       "      <td>0.000753</td>\n",
       "      <td>-0.043082</td>\n",
       "      <td>-0.078405</td>\n",
       "      <td>0.043289</td>\n",
       "      <td>0.942898</td>\n",
       "      <td>-0.208181</td>\n",
       "      <td>0.031255</td>\n",
       "      <td>0.017837</td>\n",
       "      <td>...</td>\n",
       "      <td>-0.019983</td>\n",
       "      <td>-0.003186</td>\n",
       "      <td>-0.009174</td>\n",
       "      <td>0.011594</td>\n",
       "      <td>-0.000634</td>\n",
       "      <td>0.139775</td>\n",
       "      <td>0.012942</td>\n",
       "      <td>-0.060828</td>\n",
       "      <td>Alaska</td>\n",
       "      <td>0.005789</td>\n",
       "    </tr>\n",
       "  </tbody>\n",
       "</table>\n",
       "<p>5 rows × 33 columns</p>\n",
       "</div>"
      ],
      "text/plain": [
       "   Year  DP02_0001E  DP02_0002E  DP02_0003E  DP02_0007E  DP02_0011E  \\\n",
       "0  2018    0.007341    0.009226   -0.008186    0.090413    0.007228   \n",
       "1  2019    0.022851   -0.265678   -0.360479   -0.317095   -0.802204   \n",
       "2  2021    0.036880    0.013836    0.056032   -0.010988    0.081890   \n",
       "3  2022    0.024848    0.041137    0.053954   -0.058821    0.009307   \n",
       "4  2018    0.015195    0.000753   -0.043082   -0.078405    0.043289   \n",
       "\n",
       "   DP02_0037E  DP02_0060E  DP02_0061E  DP02_0062E  ...  DP04_0134E  \\\n",
       "0    0.004783    0.022710   -0.002918    0.018174  ...    0.050667   \n",
       "1    1.302990   -0.588360   -0.705200    0.439418  ...    0.024112   \n",
       "2   -0.050374   -0.025077   -0.044056    0.038532  ...    0.066914   \n",
       "3    0.106362   -0.070979   -0.062720   -0.020504  ...    0.060395   \n",
       "4    0.942898   -0.208181    0.031255    0.017837  ...   -0.019983   \n",
       "\n",
       "   DP05_0001E  DP05_0004E  DP05_0018E  DP05_0037E  DP05_0038E  DP05_0039E  \\\n",
       "0    0.002692    0.003198    0.010283   -0.001775   -0.000327   -0.123824   \n",
       "1    0.003133   -0.006376    0.002545    0.005908    0.009572    0.054480   \n",
       "2    0.027878    0.008556    0.010152   -0.013376   -0.010947    0.067268   \n",
       "3    0.006829   -0.001060   -0.005025    0.006291   -0.002353   -0.017318   \n",
       "4   -0.003186   -0.009174    0.011594   -0.000634    0.139775    0.012942   \n",
       "\n",
       "   DP05_0044E  RegionName  Typical Home Value  \n",
       "0   -0.027097     Alabama            0.038688  \n",
       "1    0.015884     Alabama            0.070360  \n",
       "2    0.040587     Alabama            0.263465  \n",
       "3    0.146484     Alabama            0.076587  \n",
       "4   -0.060828      Alaska            0.005789  \n",
       "\n",
       "[5 rows x 33 columns]"
      ]
     },
     "execution_count": 26,
     "metadata": {},
     "output_type": "execute_result"
    }
   ],
   "source": [
    "record.head()"
   ]
  },
  {
   "cell_type": "markdown",
   "metadata": {},
   "source": [
    "Currently my explanatory variable is continuious. I must change it to a label variable. To do this, I will choose home value percent changes that are above the mean to 1s, home value percent changes that are below the mean below the mean to 0s."
   ]
  },
  {
   "cell_type": "code",
   "execution_count": 27,
   "metadata": {},
   "outputs": [],
   "source": [
    "mean=record['Typical Home Value'].mean()\n",
    "record['Typical Home Value']=record['Typical Home Value'].apply(lambda x:1 if x>mean else 0)"
   ]
  },
  {
   "cell_type": "code",
   "execution_count": 30,
   "metadata": {},
   "outputs": [],
   "source": [
    "record=record.drop(['Year','RegionName'],axis=1)"
   ]
  },
  {
   "cell_type": "code",
   "execution_count": 31,
   "metadata": {},
   "outputs": [
    {
     "data": {
      "text/html": [
       "<div>\n",
       "<style scoped>\n",
       "    .dataframe tbody tr th:only-of-type {\n",
       "        vertical-align: middle;\n",
       "    }\n",
       "\n",
       "    .dataframe tbody tr th {\n",
       "        vertical-align: top;\n",
       "    }\n",
       "\n",
       "    .dataframe thead th {\n",
       "        text-align: right;\n",
       "    }\n",
       "</style>\n",
       "<table border=\"1\" class=\"dataframe\">\n",
       "  <thead>\n",
       "    <tr style=\"text-align: right;\">\n",
       "      <th></th>\n",
       "      <th>DP02_0001E</th>\n",
       "      <th>DP02_0002E</th>\n",
       "      <th>DP02_0003E</th>\n",
       "      <th>DP02_0007E</th>\n",
       "      <th>DP02_0011E</th>\n",
       "      <th>DP02_0037E</th>\n",
       "      <th>DP02_0060E</th>\n",
       "      <th>DP02_0061E</th>\n",
       "      <th>DP02_0062E</th>\n",
       "      <th>DP02_0063E</th>\n",
       "      <th>...</th>\n",
       "      <th>DP04_0047E</th>\n",
       "      <th>DP04_0134E</th>\n",
       "      <th>DP05_0001E</th>\n",
       "      <th>DP05_0004E</th>\n",
       "      <th>DP05_0018E</th>\n",
       "      <th>DP05_0037E</th>\n",
       "      <th>DP05_0038E</th>\n",
       "      <th>DP05_0039E</th>\n",
       "      <th>DP05_0044E</th>\n",
       "      <th>Typical Home Value</th>\n",
       "    </tr>\n",
       "  </thead>\n",
       "  <tbody>\n",
       "    <tr>\n",
       "      <th>0</th>\n",
       "      <td>0.007341</td>\n",
       "      <td>0.009226</td>\n",
       "      <td>-0.008186</td>\n",
       "      <td>0.090413</td>\n",
       "      <td>0.007228</td>\n",
       "      <td>0.004783</td>\n",
       "      <td>0.022710</td>\n",
       "      <td>-0.002918</td>\n",
       "      <td>0.018174</td>\n",
       "      <td>0.033732</td>\n",
       "      <td>...</td>\n",
       "      <td>0.007581</td>\n",
       "      <td>0.050667</td>\n",
       "      <td>0.002692</td>\n",
       "      <td>0.003198</td>\n",
       "      <td>0.010283</td>\n",
       "      <td>-0.001775</td>\n",
       "      <td>-0.000327</td>\n",
       "      <td>-0.123824</td>\n",
       "      <td>-0.027097</td>\n",
       "      <td>0</td>\n",
       "    </tr>\n",
       "    <tr>\n",
       "      <th>1</th>\n",
       "      <td>0.022851</td>\n",
       "      <td>-0.265678</td>\n",
       "      <td>-0.360479</td>\n",
       "      <td>-0.317095</td>\n",
       "      <td>-0.802204</td>\n",
       "      <td>1.302990</td>\n",
       "      <td>-0.588360</td>\n",
       "      <td>-0.705200</td>\n",
       "      <td>0.439418</td>\n",
       "      <td>1.429793</td>\n",
       "      <td>...</td>\n",
       "      <td>-0.000968</td>\n",
       "      <td>0.024112</td>\n",
       "      <td>0.003133</td>\n",
       "      <td>-0.006376</td>\n",
       "      <td>0.002545</td>\n",
       "      <td>0.005908</td>\n",
       "      <td>0.009572</td>\n",
       "      <td>0.054480</td>\n",
       "      <td>0.015884</td>\n",
       "      <td>0</td>\n",
       "    </tr>\n",
       "    <tr>\n",
       "      <th>2</th>\n",
       "      <td>0.036880</td>\n",
       "      <td>0.013836</td>\n",
       "      <td>0.056032</td>\n",
       "      <td>-0.010988</td>\n",
       "      <td>0.081890</td>\n",
       "      <td>-0.050374</td>\n",
       "      <td>-0.025077</td>\n",
       "      <td>-0.044056</td>\n",
       "      <td>0.038532</td>\n",
       "      <td>0.007408</td>\n",
       "      <td>...</td>\n",
       "      <td>-0.004602</td>\n",
       "      <td>0.066914</td>\n",
       "      <td>0.027878</td>\n",
       "      <td>0.008556</td>\n",
       "      <td>0.010152</td>\n",
       "      <td>-0.013376</td>\n",
       "      <td>-0.010947</td>\n",
       "      <td>0.067268</td>\n",
       "      <td>0.040587</td>\n",
       "      <td>1</td>\n",
       "    </tr>\n",
       "    <tr>\n",
       "      <th>3</th>\n",
       "      <td>0.024848</td>\n",
       "      <td>0.041137</td>\n",
       "      <td>0.053954</td>\n",
       "      <td>-0.058821</td>\n",
       "      <td>0.009307</td>\n",
       "      <td>0.106362</td>\n",
       "      <td>-0.070979</td>\n",
       "      <td>-0.062720</td>\n",
       "      <td>-0.020504</td>\n",
       "      <td>0.014854</td>\n",
       "      <td>...</td>\n",
       "      <td>0.017788</td>\n",
       "      <td>0.060395</td>\n",
       "      <td>0.006829</td>\n",
       "      <td>-0.001060</td>\n",
       "      <td>-0.005025</td>\n",
       "      <td>0.006291</td>\n",
       "      <td>-0.002353</td>\n",
       "      <td>-0.017318</td>\n",
       "      <td>0.146484</td>\n",
       "      <td>0</td>\n",
       "    </tr>\n",
       "    <tr>\n",
       "      <th>4</th>\n",
       "      <td>0.015195</td>\n",
       "      <td>0.000753</td>\n",
       "      <td>-0.043082</td>\n",
       "      <td>-0.078405</td>\n",
       "      <td>0.043289</td>\n",
       "      <td>0.942898</td>\n",
       "      <td>-0.208181</td>\n",
       "      <td>0.031255</td>\n",
       "      <td>0.017837</td>\n",
       "      <td>-0.065209</td>\n",
       "      <td>...</td>\n",
       "      <td>-0.043262</td>\n",
       "      <td>-0.019983</td>\n",
       "      <td>-0.003186</td>\n",
       "      <td>-0.009174</td>\n",
       "      <td>0.011594</td>\n",
       "      <td>-0.000634</td>\n",
       "      <td>0.139775</td>\n",
       "      <td>0.012942</td>\n",
       "      <td>-0.060828</td>\n",
       "      <td>0</td>\n",
       "    </tr>\n",
       "  </tbody>\n",
       "</table>\n",
       "<p>5 rows × 31 columns</p>\n",
       "</div>"
      ],
      "text/plain": [
       "   DP02_0001E  DP02_0002E  DP02_0003E  DP02_0007E  DP02_0011E  DP02_0037E  \\\n",
       "0    0.007341    0.009226   -0.008186    0.090413    0.007228    0.004783   \n",
       "1    0.022851   -0.265678   -0.360479   -0.317095   -0.802204    1.302990   \n",
       "2    0.036880    0.013836    0.056032   -0.010988    0.081890   -0.050374   \n",
       "3    0.024848    0.041137    0.053954   -0.058821    0.009307    0.106362   \n",
       "4    0.015195    0.000753   -0.043082   -0.078405    0.043289    0.942898   \n",
       "\n",
       "   DP02_0060E  DP02_0061E  DP02_0062E  DP02_0063E  ...  DP04_0047E  \\\n",
       "0    0.022710   -0.002918    0.018174    0.033732  ...    0.007581   \n",
       "1   -0.588360   -0.705200    0.439418    1.429793  ...   -0.000968   \n",
       "2   -0.025077   -0.044056    0.038532    0.007408  ...   -0.004602   \n",
       "3   -0.070979   -0.062720   -0.020504    0.014854  ...    0.017788   \n",
       "4   -0.208181    0.031255    0.017837   -0.065209  ...   -0.043262   \n",
       "\n",
       "   DP04_0134E  DP05_0001E  DP05_0004E  DP05_0018E  DP05_0037E  DP05_0038E  \\\n",
       "0    0.050667    0.002692    0.003198    0.010283   -0.001775   -0.000327   \n",
       "1    0.024112    0.003133   -0.006376    0.002545    0.005908    0.009572   \n",
       "2    0.066914    0.027878    0.008556    0.010152   -0.013376   -0.010947   \n",
       "3    0.060395    0.006829   -0.001060   -0.005025    0.006291   -0.002353   \n",
       "4   -0.019983   -0.003186   -0.009174    0.011594   -0.000634    0.139775   \n",
       "\n",
       "   DP05_0039E  DP05_0044E  Typical Home Value  \n",
       "0   -0.123824   -0.027097                   0  \n",
       "1    0.054480    0.015884                   0  \n",
       "2    0.067268    0.040587                   1  \n",
       "3   -0.017318    0.146484                   0  \n",
       "4    0.012942   -0.060828                   0  \n",
       "\n",
       "[5 rows x 31 columns]"
      ]
     },
     "execution_count": 31,
     "metadata": {},
     "output_type": "execute_result"
    }
   ],
   "source": [
    "record.head()"
   ]
  },
  {
   "cell_type": "markdown",
   "metadata": {},
   "source": [
    "You must split your fata into training and testing data sets so you can make sure you do not over or under fit."
   ]
  },
  {
   "cell_type": "markdown",
   "metadata": {},
   "source": [
    "# Feature Selection"
   ]
  },
  {
   "cell_type": "code",
   "execution_count": 59,
   "metadata": {},
   "outputs": [
    {
     "name": "stderr",
     "output_type": "stream",
     "text": [
      "[nltk_data] Downloading package vader_lexicon to\n",
      "[nltk_data]     C:\\Users\\npeno\\AppData\\Roaming\\nltk_data...\n",
      "[nltk_data]   Package vader_lexicon is already up-to-date!\n"
     ]
    }
   ],
   "source": [
    "import pandas as pd\n",
    "from nltk.sentiment.vader import SentimentIntensityAnalyzer\n",
    "import nltk\n",
    "nltk.download('vader_lexicon')\n",
    "sid = SentimentIntensityAnalyzer()\n",
    "import numpy as np\n",
    "import matplotlib.pyplot as plt"
   ]
  },
  {
   "cell_type": "code",
   "execution_count": 60,
   "metadata": {},
   "outputs": [],
   "source": [
    "text=pd.read_csv('./data/news.csv')"
   ]
  },
  {
   "cell_type": "code",
   "execution_count": 61,
   "metadata": {},
   "outputs": [],
   "source": [
    "text['score'] = text['2'].apply(lambda x: sid.polarity_scores(x))\n",
    "text['score'] = text['score'].apply(lambda x: x['compound']).astype(float)"
   ]
  },
  {
   "cell_type": "code",
   "execution_count": 62,
   "metadata": {},
   "outputs": [
    {
     "data": {
      "text/plain": [
       "-0.11629099999999999"
      ]
     },
     "execution_count": 62,
     "metadata": {},
     "output_type": "execute_result"
    }
   ],
   "source": [
    "text['score'].mean()"
   ]
  },
  {
   "cell_type": "markdown",
   "metadata": {},
   "source": [
    "Will say if title is above mean it is positive/neutral, below mean negative."
   ]
  },
  {
   "cell_type": "code",
   "execution_count": 63,
   "metadata": {},
   "outputs": [],
   "source": [
    "titles=[]\n",
    "y=[]\n",
    "#ITERATE OVER ROWS\n",
    "# for i in range(0,10):  \n",
    "for i in range(0,text.shape[0]):\n",
    "    # QUICKLY CLEAN TEXT\n",
    "    keep=\"abcdefghijklmnopqrstuvwxyz \"\n",
    "    replace=\".,!;\"\n",
    "    tmp=\"\"\n",
    "    for char in text[\"2\"][i].replace(\"<br />\",\"\").lower():\n",
    "        if char in replace:\n",
    "            tmp+=\" \"\n",
    "        if char in keep:\n",
    "            tmp+=char\n",
    "    tmp=\" \".join(tmp.split())\n",
    "    titles.append(tmp)\n",
    "    if(text[\"score\"][i]<=text['score'].mean()):\n",
    "        y.append(0)\n",
    "    if(text[\"score\"][i]>=text['score'].mean()):\n",
    "        y.append(1)"
   ]
  },
  {
   "cell_type": "code",
   "execution_count": 64,
   "metadata": {},
   "outputs": [],
   "source": [
    "y=np.array(y)"
   ]
  },
  {
   "cell_type": "code",
   "execution_count": 65,
   "metadata": {},
   "outputs": [],
   "source": [
    "from sklearn.feature_extraction.text import CountVectorizer\n",
    "\n",
    "def vectorize(corpus,MAX_FEATURES):\n",
    "    vectorizer=CountVectorizer(max_features=MAX_FEATURES,stop_words=\"english\")   \n",
    "    # RUN COUNT VECTORIZER ON OUR COURPUS \n",
    "    Xs  =  vectorizer.fit_transform(corpus)   \n",
    "    X=np.array(Xs.todense())\n",
    "    #CONVERT TO ONE-HOT VECTORS (can also be done with binary=true in CountVectorizer)\n",
    "    maxs=np.max(X,axis=0)\n",
    "    return (np.ceil(X/maxs),vectorizer.vocabulary_)\n",
    "\n",
    "(x,vocab0)=vectorize(titles,MAX_FEATURES=10000)"
   ]
  },
  {
   "cell_type": "code",
   "execution_count": 66,
   "metadata": {},
   "outputs": [
    {
     "name": "stdout",
     "output_type": "stream",
     "text": [
      "(100, 666) (100,)\n"
     ]
    }
   ],
   "source": [
    "print(x.shape,y.shape)"
   ]
  },
  {
   "cell_type": "code",
   "execution_count": 67,
   "metadata": {},
   "outputs": [],
   "source": [
    "vocab1 = dict([(value, key) for key, value in vocab0.items()])"
   ]
  },
  {
   "cell_type": "code",
   "execution_count": 68,
   "metadata": {},
   "outputs": [
    {
     "name": "stdout",
     "output_type": "stream",
     "text": [
      "   173  457  394  262  499  645  372  438  30   433  ...  235  238  246  239  \\\n",
      "0  1.0  1.0  0.0  0.0  0.0  0.0  0.0  0.0  0.0  0.0  ...  0.0  0.0  0.0  0.0   \n",
      "1  1.0  1.0  0.0  0.0  0.0  0.0  0.0  0.0  0.0  0.0  ...  0.0  0.0  0.0  0.0   \n",
      "2  0.0  0.0  0.0  0.0  0.0  0.0  1.0  0.0  0.0  0.0  ...  0.0  0.0  0.0  0.0   \n",
      "3  0.0  0.0  0.0  0.0  0.0  0.0  0.0  0.0  0.0  0.0  ...  0.0  0.0  0.0  0.0   \n",
      "4  0.0  0.0  1.0  0.0  0.0  0.0  0.0  0.0  0.0  0.0  ...  0.0  0.0  0.0  0.0   \n",
      "\n",
      "   240  241  242  244  245  665  \n",
      "0  0.0  0.0  0.0  0.0  0.0  0.0  \n",
      "1  0.0  0.0  0.0  0.0  0.0  0.0  \n",
      "2  0.0  0.0  0.0  0.0  0.0  0.0  \n",
      "3  0.0  1.0  0.0  0.0  0.0  0.0  \n",
      "4  0.0  0.0  0.0  0.0  0.0  0.0  \n",
      "\n",
      "[5 rows x 666 columns]\n"
     ]
    }
   ],
   "source": [
    "df2=pd.DataFrame(x)\n",
    "s = df2.sum(axis=0)\n",
    "df2=df2[s.sort_values(ascending=False).index[:]]\n",
    "print(df2.head())"
   ]
  },
  {
   "cell_type": "code",
   "execution_count": 69,
   "metadata": {},
   "outputs": [
    {
     "name": "stdout",
     "output_type": "stream",
     "text": [
      "\n"
     ]
    }
   ],
   "source": [
    "print()\n",
    "i1=0\n",
    "vocab2={}\n",
    "for i2 in list(df2.columns):\n",
    "    # print(i2)\n",
    "    vocab2[i1]=vocab1[int(i2)]\n",
    "    i1+=1"
   ]
  },
  {
   "cell_type": "code",
   "execution_count": 70,
   "metadata": {},
   "outputs": [
    {
     "name": "stdout",
     "output_type": "stream",
     "text": [
      "   0    1    2    3    4    5    6    7    8    9    ...  656  657  658  659  \\\n",
      "0  1.0  1.0  0.0  0.0  0.0  0.0  0.0  0.0  0.0  0.0  ...  0.0  0.0  0.0  0.0   \n",
      "1  1.0  1.0  0.0  0.0  0.0  0.0  0.0  0.0  0.0  0.0  ...  0.0  0.0  0.0  0.0   \n",
      "2  0.0  0.0  0.0  0.0  0.0  0.0  1.0  0.0  0.0  0.0  ...  0.0  0.0  0.0  0.0   \n",
      "3  0.0  0.0  0.0  0.0  0.0  0.0  0.0  0.0  0.0  0.0  ...  0.0  0.0  0.0  0.0   \n",
      "4  0.0  0.0  1.0  0.0  0.0  0.0  0.0  0.0  0.0  0.0  ...  0.0  0.0  0.0  0.0   \n",
      "\n",
      "   660  661  662  663  664  665  \n",
      "0  0.0  0.0  0.0  0.0  0.0  0.0  \n",
      "1  0.0  0.0  0.0  0.0  0.0  0.0  \n",
      "2  0.0  0.0  0.0  0.0  0.0  0.0  \n",
      "3  0.0  1.0  0.0  0.0  0.0  0.0  \n",
      "4  0.0  0.0  0.0  0.0  0.0  0.0  \n",
      "\n",
      "[5 rows x 666 columns]\n",
      "0      15.0\n",
      "1      14.0\n",
      "2      12.0\n",
      "3      11.0\n",
      "4       7.0\n",
      "       ... \n",
      "661     1.0\n",
      "662     1.0\n",
      "663     1.0\n",
      "664     1.0\n",
      "665     1.0\n",
      "Length: 666, dtype: float64\n"
     ]
    }
   ],
   "source": [
    "df2.columns = range(df2.columns.size)\n",
    "print(df2.head())\n",
    "print(df2.sum(axis=0))\n",
    "x=df2.to_numpy()"
   ]
  },
  {
   "cell_type": "code",
   "execution_count": 71,
   "metadata": {},
   "outputs": [
    {
     "name": "stdout",
     "output_type": "stream",
     "text": [
      "[22, 84, 76, 50, 95, 46, 54, 44, 3, 48]\n",
      "[96, 92, 14, 51, 91, 26, 63, 49, 36, 98]\n"
     ]
    }
   ],
   "source": [
    "import random\n",
    "N=x.shape[0]\n",
    "l = [*range(N)]     # indices\n",
    "cut = int(0.8 * N) #80% of the list\n",
    "random.shuffle(l)   # randomize\n",
    "train_index = l[:cut] # first 80% of shuffled list\n",
    "test_index = l[cut:] # last 20% of shuffled list\n",
    "\n",
    "print(train_index[0:10])\n",
    "print(test_index[0:10])"
   ]
  },
  {
   "cell_type": "code",
   "execution_count": 72,
   "metadata": {},
   "outputs": [],
   "source": [
    "from sklearn.naive_bayes import MultinomialNB\n",
    "from sklearn.metrics import accuracy_score\n",
    "import time\n",
    "\n",
    "def train_MNB_model(X,Y,i_print=False):\n",
    "\n",
    "    if(i_print):\n",
    "        print(X.shape,Y.shape)\n",
    "\n",
    "    #SPLIT\n",
    "    x_train=X[train_index]\n",
    "    y_train=Y[train_index].flatten()\n",
    "\n",
    "    x_test=X[test_index]\n",
    "    y_test=Y[test_index].flatten()\n",
    "\n",
    "    # INITIALIZE MODEL \n",
    "    model = MultinomialNB()\n",
    "\n",
    "    # TRAIN MODEL \n",
    "    start = time.process_time()\n",
    "    model.fit(x_train,y_train)\n",
    "    time_train=time.process_time() - start\n",
    "\n",
    "    # LABEL PREDICTIONS FOR TRAINING AND TEST SET \n",
    "    start = time.process_time()\n",
    "    yp_train = model.predict(x_train)\n",
    "    yp_test = model.predict(x_test)\n",
    "    time_eval=time.process_time() - start\n",
    "\n",
    "    acc_train= accuracy_score(y_train, yp_train)*100\n",
    "    acc_test= accuracy_score(y_test, yp_test)*100\n",
    "\n",
    "    if(i_print):\n",
    "        print(acc_train,acc_test,time_train,time_eval)\n",
    "\n",
    "    return (acc_train,acc_test,time_train,time_eval)\n"
   ]
  },
  {
   "cell_type": "markdown",
   "metadata": {},
   "source": [
    "Here I remove features from high to low."
   ]
  },
  {
   "cell_type": "code",
   "execution_count": 73,
   "metadata": {},
   "outputs": [],
   "source": [
    "def initialize_arrays():\n",
    "    global num_features,train_accuracies\n",
    "    global test_accuracies,train_time,eval_time\n",
    "    num_features=[]\n",
    "    train_accuracies=[]\n",
    "    test_accuracies=[]\n",
    "    train_time=[]\n",
    "    eval_time=[]"
   ]
  },
  {
   "cell_type": "code",
   "execution_count": 74,
   "metadata": {},
   "outputs": [
    {
     "name": "stdout",
     "output_type": "stream",
     "text": [
      "5 50 50 73.75 45.0\n",
      "10 100 100 85.0 55.00000000000001\n",
      "15 150 150 87.5 60.0\n",
      "20 200 200 95.0 55.00000000000001\n",
      "25 250 250 95.0 60.0\n",
      "30 300 300 96.25 55.00000000000001\n",
      "35 350 350 97.5 55.00000000000001\n",
      "40 400 400 97.5 60.0\n",
      "45 450 450 97.5 60.0\n",
      "50 500 500 97.5 60.0\n",
      "55 550 550 97.5 65.0\n",
      "60 600 600 98.75 70.0\n",
      "65 650 650 100.0 65.0\n",
      "70 700 666 100.0 70.0\n",
      "75 750 666 100.0 70.0\n",
      "80 800 666 100.0 70.0\n",
      "85 850 666 100.0 70.0\n",
      "90 900 666 100.0 70.0\n",
      "95 950 666 100.0 70.0\n",
      "100 1000 666 100.0 70.0\n",
      "5 3250 666 100.0 70.0\n",
      "10 5500 666 100.0 70.0\n",
      "15 7750 666 100.0 70.0\n",
      "20 10000 666 100.0 70.0\n"
     ]
    }
   ],
   "source": [
    "# INITIALIZE ARRAYS\n",
    "initialize_arrays()\n",
    "\n",
    "# DEFINE SEARCH FUNCTION\n",
    "def partial_grid_search(num_runs, min_index, max_index):\n",
    "    for i in range(1, num_runs+1):\n",
    "        # SUBSET FEATURES \n",
    "        upper_index=min_index+i*int((max_index-min_index)/num_runs)\n",
    "        xtmp=x[:,0:upper_index]\n",
    "\n",
    "        #TRAIN \n",
    "        (acc_train,acc_test,time_train,time_eval)=train_MNB_model(xtmp,y,i_print=False)\n",
    "\n",
    "        if(i%5==0):\n",
    "            print(i,upper_index,xtmp.shape[1],acc_train,acc_test)\n",
    "            \n",
    "        #RECORD \n",
    "        num_features.append(xtmp.shape[1])\n",
    "        train_accuracies.append(acc_train)\n",
    "        test_accuracies.append(acc_test)\n",
    "        train_time.append(time_train)\n",
    "        eval_time.append(time_eval)\n",
    "\n",
    "# DENSE SEARCH (SMALL NUMBER OF FEATURES (FAST))\n",
    "partial_grid_search(num_runs=100, min_index=0, max_index=1000)\n",
    "\n",
    "# SPARSE SEARCH (LARGE NUMBER OF FEATURES (SLOWER))\n",
    "partial_grid_search(num_runs=20, min_index=1000, max_index=10000)"
   ]
  },
  {
   "cell_type": "code",
   "execution_count": 75,
   "metadata": {},
   "outputs": [],
   "source": [
    "def save_results(path_root):\n",
    "    out=np.transpose(np.array([num_features,train_accuracies,test_accuracies,train_time,eval_time])) \n",
    "    out=pd.DataFrame(out)\n",
    "    out.to_csv(path_root+\".csv\")"
   ]
  },
  {
   "cell_type": "code",
   "execution_count": 76,
   "metadata": {},
   "outputs": [],
   "source": [
    "def plot_results(path_root):\n",
    "\n",
    "    #PLOT-1\n",
    "    plt.plot(num_features,train_accuracies,'-or')\n",
    "    plt.plot(num_features,test_accuracies,'-ob')\n",
    "    plt.xlabel('Number of features')\n",
    "    plt.ylabel('ACCURACY: Training (blue) and Test (red)')\n",
    "    plt.savefig(path_root+'-1.png')\n",
    "    plt.show()\n",
    "\n",
    "    # #PLOT-2\n",
    "    plt.plot(num_features,train_time,'-or')\n",
    "    plt.plot(num_features,eval_time,'-ob')\n",
    "    plt.xlabel('Number of features')\n",
    "    plt.ylabel('Runtime: training time (red) and evaluation time(blue)')\n",
    "    plt.savefig(path_root+'-2.png')\n",
    "    plt.show()\n",
    "\n",
    "    # #PLOT-3\n",
    "    plt.plot(np.array(test_accuracies),train_time,'-or')\n",
    "    plt.plot(np.array(test_accuracies),eval_time,'-ob')\n",
    "    plt.xlabel('test_accuracies')\n",
    "    plt.ylabel('Runtime: training time (red) and evaluation time (blue)')\n",
    "    plt.savefig(path_root+'-3.png')\n",
    "    plt.show()\n",
    "\n",
    "    # #PLOT-3\n",
    "    plt.plot(num_features,np.array(train_accuracies)-np.array(test_accuracies),'-or')\n",
    "    plt.xlabel('Number of features')\n",
    "    plt.ylabel('train_accuracies-test_accuracies')\n",
    "    plt.savefig(path_root+'-4.png')\n",
    "    plt.show()"
   ]
  },
  {
   "cell_type": "code",
   "execution_count": 77,
   "metadata": {},
   "outputs": [
    {
     "data": {
      "image/png": "[encoded data removed]",
      "text/plain": [
       "<Figure size 640x480 with 1 Axes>"
      ]
     },
     "metadata": {},
     "output_type": "display_data"
    },
    {
     "data": {
      "image/png": "[encoded data removed]",
      "text/plain": [
       "<Figure size 640x480 with 1 Axes>"
      ]
     },
     "metadata": {},
     "output_type": "display_data"
    },
    {
     "data": {
      "image/png": "[encoded data removed]",
      "text/plain": [
       "<Figure size 640x480 with 1 Axes>"
      ]
     },
     "metadata": {},
     "output_type": "display_data"
    },
    {
     "data": {
      "image/png": "[encoded data removed]",
      "text/plain": [
       "<Figure size 640x480 with 1 Axes>"
      ]
     },
     "metadata": {},
     "output_type": "display_data"
    }
   ],
   "source": [
    "save_results(\"./data\"+\"/partial_grid_search\")\n",
    "plot_results(\"./data\"+\"/partial_grid_search\")"
   ]
  },
  {
   "cell_type": "markdown",
   "metadata": {},
   "source": [
    "# Naive Bayes with Labeled Record Data"
   ]
  },
  {
   "cell_type": "code",
   "execution_count": 50,
   "metadata": {},
   "outputs": [],
   "source": [
    "from sklearn.model_selection import train_test_split\n",
    "from sklearn.naive_bayes import GaussianNB\n",
    "from sklearn.metrics import accuracy_score\n",
    "from sklearn.metrics import confusion_matrix"
   ]
  },
  {
   "cell_type": "code",
   "execution_count": 51,
   "metadata": {},
   "outputs": [
    {
     "ename": "NameError",
     "evalue": "name 'record' is not defined",
     "output_type": "error",
     "traceback": [
      "\u001b[1;31m---------------------------------------------------------------------------\u001b[0m",
      "\u001b[1;31mNameError\u001b[0m                                 Traceback (most recent call last)",
      "\u001b[1;32mc:\\Users\\npeno\\Documents\\DSAN5000 Labs\\Homework1\\dsan-5000-project-NolanPenoyer\\Nolan Penoyer Website\\NaiveBayes.ipynb Cell 35\u001b[0m line \u001b[0;36m1\n\u001b[1;32m----> <a href='vscode-notebook-cell:/c%3A/Users/npeno/Documents/DSAN5000%20Labs/Homework1/dsan-5000-project-NolanPenoyer/Nolan%20Penoyer%20Website/NaiveBayes.ipynb#X31sZmlsZQ%3D%3D?line=0'>1</a>\u001b[0m X\u001b[39m=\u001b[39mrecord\u001b[39m.\u001b[39mdrop([\u001b[39m'\u001b[39m\u001b[39mTypical Home Value\u001b[39m\u001b[39m'\u001b[39m],axis\u001b[39m=\u001b[39m\u001b[39m1\u001b[39m)\n\u001b[0;32m      <a href='vscode-notebook-cell:/c%3A/Users/npeno/Documents/DSAN5000%20Labs/Homework1/dsan-5000-project-NolanPenoyer/Nolan%20Penoyer%20Website/NaiveBayes.ipynb#X31sZmlsZQ%3D%3D?line=1'>2</a>\u001b[0m y\u001b[39m=\u001b[39mrecord[\u001b[39m'\u001b[39m\u001b[39mTypical Home Value\u001b[39m\u001b[39m'\u001b[39m]\n",
      "\u001b[1;31mNameError\u001b[0m: name 'record' is not defined"
     ]
    }
   ],
   "source": [
    "X=record.drop(['Typical Home Value'],axis=1)\n",
    "y=record['Typical Home Value']"
   ]
  },
  {
   "cell_type": "code",
   "execution_count": 52,
   "metadata": {},
   "outputs": [
    {
     "ename": "NameError",
     "evalue": "name 'X' is not defined",
     "output_type": "error",
     "traceback": [
      "\u001b[1;31m---------------------------------------------------------------------------\u001b[0m",
      "\u001b[1;31mNameError\u001b[0m                                 Traceback (most recent call last)",
      "\u001b[1;32mc:\\Users\\npeno\\Documents\\DSAN5000 Labs\\Homework1\\dsan-5000-project-NolanPenoyer\\Nolan Penoyer Website\\NaiveBayes.ipynb Cell 36\u001b[0m line \u001b[0;36m1\n\u001b[1;32m----> <a href='vscode-notebook-cell:/c%3A/Users/npeno/Documents/DSAN5000%20Labs/Homework1/dsan-5000-project-NolanPenoyer/Nolan%20Penoyer%20Website/NaiveBayes.ipynb#X32sZmlsZQ%3D%3D?line=0'>1</a>\u001b[0m X_train, X_test, y_train, y_test \u001b[39m=\u001b[39m train_test_split(X, y, test_size \u001b[39m=\u001b[39m \u001b[39m0.3\u001b[39m, random_state \u001b[39m=\u001b[39m \u001b[39m0\u001b[39m)\n",
      "\u001b[1;31mNameError\u001b[0m: name 'X' is not defined"
     ]
    }
   ],
   "source": [
    "X_train, X_test, y_train, y_test = train_test_split(X, y, test_size = 0.3, random_state = 0)"
   ]
  },
  {
   "cell_type": "code",
   "execution_count": 39,
   "metadata": {},
   "outputs": [
    {
     "data": {
      "text/plain": [
       "((142, 30), (62, 30))"
      ]
     },
     "execution_count": 39,
     "metadata": {},
     "output_type": "execute_result"
    }
   ],
   "source": [
    "X_train.shape, X_test.shape"
   ]
  },
  {
   "cell_type": "code",
   "execution_count": 41,
   "metadata": {},
   "outputs": [
    {
     "data": {
      "text/html": [
       "<style>#sk-container-id-1 {color: black;}#sk-container-id-1 pre{padding: 0;}#sk-container-id-1 div.sk-toggleable {background-color: white;}#sk-container-id-1 label.sk-toggleable__label {cursor: pointer;display: block;width: 100%;margin-bottom: 0;padding: 0.3em;box-sizing: border-box;text-align: center;}#sk-container-id-1 label.sk-toggleable__label-arrow:before {content: \"▸\";float: left;margin-right: 0.25em;color: #696969;}#sk-container-id-1 label.sk-toggleable__label-arrow:hover:before {color: black;}#sk-container-id-1 div.sk-estimator:hover label.sk-toggleable__label-arrow:before {color: black;}#sk-container-id-1 div.sk-toggleable__content {max-height: 0;max-width: 0;overflow: hidden;text-align: left;background-color: #f0f8ff;}#sk-container-id-1 div.sk-toggleable__content pre {margin: 0.2em;color: black;border-radius: 0.25em;background-color: #f0f8ff;}#sk-container-id-1 input.sk-toggleable__control:checked~div.sk-toggleable__content {max-height: 200px;max-width: 100%;overflow: auto;}#sk-container-id-1 input.sk-toggleable__control:checked~label.sk-toggleable__label-arrow:before {content: \"▾\";}#sk-container-id-1 div.sk-estimator input.sk-toggleable__control:checked~label.sk-toggleable__label {background-color: #d4ebff;}#sk-container-id-1 div.sk-label input.sk-toggleable__control:checked~label.sk-toggleable__label {background-color: #d4ebff;}#sk-container-id-1 input.sk-hidden--visually {border: 0;clip: rect(1px 1px 1px 1px);clip: rect(1px, 1px, 1px, 1px);height: 1px;margin: -1px;overflow: hidden;padding: 0;position: absolute;width: 1px;}#sk-container-id-1 div.sk-estimator {font-family: monospace;background-color: #f0f8ff;border: 1px dotted black;border-radius: 0.25em;box-sizing: border-box;margin-bottom: 0.5em;}#sk-container-id-1 div.sk-estimator:hover {background-color: #d4ebff;}#sk-container-id-1 div.sk-parallel-item::after {content: \"\";width: 100%;border-bottom: 1px solid gray;flex-grow: 1;}#sk-container-id-1 div.sk-label:hover label.sk-toggleable__label {background-color: #d4ebff;}#sk-container-id-1 div.sk-serial::before {content: \"\";position: absolute;border-left: 1px solid gray;box-sizing: border-box;top: 0;bottom: 0;left: 50%;z-index: 0;}#sk-container-id-1 div.sk-serial {display: flex;flex-direction: column;align-items: center;background-color: white;padding-right: 0.2em;padding-left: 0.2em;position: relative;}#sk-container-id-1 div.sk-item {position: relative;z-index: 1;}#sk-container-id-1 div.sk-parallel {display: flex;align-items: stretch;justify-content: center;background-color: white;position: relative;}#sk-container-id-1 div.sk-item::before, #sk-container-id-1 div.sk-parallel-item::before {content: \"\";position: absolute;border-left: 1px solid gray;box-sizing: border-box;top: 0;bottom: 0;left: 50%;z-index: -1;}#sk-container-id-1 div.sk-parallel-item {display: flex;flex-direction: column;z-index: 1;position: relative;background-color: white;}#sk-container-id-1 div.sk-parallel-item:first-child::after {align-self: flex-end;width: 50%;}#sk-container-id-1 div.sk-parallel-item:last-child::after {align-self: flex-start;width: 50%;}#sk-container-id-1 div.sk-parallel-item:only-child::after {width: 0;}#sk-container-id-1 div.sk-dashed-wrapped {border: 1px dashed gray;margin: 0 0.4em 0.5em 0.4em;box-sizing: border-box;padding-bottom: 0.4em;background-color: white;}#sk-container-id-1 div.sk-label label {font-family: monospace;font-weight: bold;display: inline-block;line-height: 1.2em;}#sk-container-id-1 div.sk-label-container {text-align: center;}#sk-container-id-1 div.sk-container {/* jupyter's `normalize.less` sets `[hidden] { display: none; }` but bootstrap.min.css set `[hidden] { display: none !important; }` so we also need the `!important` here to be able to override the default hidden behavior on the sphinx rendered scikit-learn.org. See: https://github.com/scikit-learn/scikit-learn/issues/21755 */display: inline-block !important;position: relative;}#sk-container-id-1 div.sk-text-repr-fallback {display: none;}</style><div id=\"sk-container-id-1\" class=\"sk-top-container\"><div class=\"sk-text-repr-fallback\"><pre>GaussianNB()</pre><b>In a Jupyter environment, please rerun this cell to show the HTML representation or trust the notebook. <br />On GitHub, the HTML representation is unable to render, please try loading this page with nbviewer.org.</b></div><div class=\"sk-container\" hidden><div class=\"sk-item\"><div class=\"sk-estimator sk-toggleable\"><input class=\"sk-toggleable__control sk-hidden--visually\" id=\"sk-estimator-id-1\" type=\"checkbox\" checked><label for=\"sk-estimator-id-1\" class=\"sk-toggleable__label sk-toggleable__label-arrow\">GaussianNB</label><div class=\"sk-toggleable__content\"><pre>GaussianNB()</pre></div></div></div></div></div>"
      ],
      "text/plain": [
       "GaussianNB()"
      ]
     },
     "execution_count": 41,
     "metadata": {},
     "output_type": "execute_result"
    }
   ],
   "source": [
    "naive = GaussianNB()\n",
    "naive.fit(X_train, y_train)"
   ]
  },
  {
   "cell_type": "code",
   "execution_count": 42,
   "metadata": {},
   "outputs": [],
   "source": [
    "y_pred = naive.predict(X_test)"
   ]
  },
  {
   "cell_type": "code",
   "execution_count": 43,
   "metadata": {},
   "outputs": [
    {
     "data": {
      "text/plain": [
       "array([1, 0, 0, 0, 0, 1, 0, 1, 0, 0, 0, 1, 1, 0, 0, 0, 0, 1, 1, 1, 1, 1,\n",
       "       1, 0, 1, 0, 0, 1, 0, 1, 1, 1, 1, 1, 1, 1, 1, 0, 0, 1, 0, 1, 1, 1,\n",
       "       1, 1, 1, 1, 0, 0, 1, 1, 0, 1, 0, 1, 1, 1, 1, 0, 0, 1], dtype=int64)"
      ]
     },
     "execution_count": 43,
     "metadata": {},
     "output_type": "execute_result"
    }
   ],
   "source": [
    "y_pred "
   ]
  },
  {
   "cell_type": "code",
   "execution_count": 45,
   "metadata": {},
   "outputs": [
    {
     "data": {
      "text/plain": [
       "0.7096774193548387"
      ]
     },
     "execution_count": 45,
     "metadata": {},
     "output_type": "execute_result"
    }
   ],
   "source": [
    "accuracy_score(y_test, y_pred)"
   ]
  },
  {
   "cell_type": "markdown",
   "metadata": {},
   "source": [
    "Fairly accurate for a first model"
   ]
  },
  {
   "cell_type": "code",
   "execution_count": 46,
   "metadata": {},
   "outputs": [],
   "source": [
    "y_pred_train = naive.predict(X_train)"
   ]
  },
  {
   "cell_type": "code",
   "execution_count": 47,
   "metadata": {},
   "outputs": [
    {
     "data": {
      "text/plain": [
       "0.6197183098591549"
      ]
     },
     "execution_count": 47,
     "metadata": {},
     "output_type": "execute_result"
    }
   ],
   "source": [
    "accuracy_score(y_train, y_pred_train)"
   ]
  },
  {
   "cell_type": "markdown",
   "metadata": {},
   "source": [
    "Not very accurate on the training set so there is some undefitting going on."
   ]
  },
  {
   "cell_type": "markdown",
   "metadata": {},
   "source": [
    "May need to examine the data more to remove outliers"
   ]
  },
  {
   "cell_type": "code",
   "execution_count": 48,
   "metadata": {},
   "outputs": [
    {
     "data": {
      "text/plain": [
       "Typical Home Value\n",
       "0    43\n",
       "1    19\n",
       "Name: count, dtype: int64"
      ]
     },
     "execution_count": 48,
     "metadata": {},
     "output_type": "execute_result"
    }
   ],
   "source": [
    "y_test.value_counts()"
   ]
  },
  {
   "cell_type": "code",
   "execution_count": 49,
   "metadata": {},
   "outputs": [
    {
     "data": {
      "text/plain": [
       "0.6935483870967742"
      ]
     },
     "execution_count": 49,
     "metadata": {},
     "output_type": "execute_result"
    }
   ],
   "source": [
    "43/(43+19)"
   ]
  },
  {
   "cell_type": "markdown",
   "metadata": {},
   "source": [
    "Our model only does slightly better than just predicting the most frequent class, so the model is not very good."
   ]
  },
  {
   "cell_type": "markdown",
   "metadata": {},
   "source": [
    "# Naive Bayes with Labeled Text Data"
   ]
  },
  {
   "cell_type": "code",
   "execution_count": 52,
   "metadata": {},
   "outputs": [],
   "source": [
    "def train_MNB_model(X,Y,i_print=False):\n",
    "\n",
    "    if(i_print):\n",
    "        print(X.shape,Y.shape)\n",
    "\n",
    "    #SPLIT\n",
    "    x_train=X[train_index]\n",
    "    y_train=Y[train_index].flatten()\n",
    "\n",
    "    x_test=X[test_index]\n",
    "    y_test=Y[test_index].flatten()\n",
    "\n",
    "    # INITIALIZE MODEL \n",
    "    model = MultinomialNB()\n",
    "\n",
    "    # TRAIN MODEL \n",
    "    start = time.process_time()\n",
    "    model.fit(x_train,y_train)\n",
    "    time_train=time.process_time() - start\n",
    "\n",
    "    # LABEL PREDICTIONS FOR TRAINING AND TEST SET \n",
    "    start = time.process_time()\n",
    "    yp_train = model.predict(x_train)\n",
    "    yp_test = model.predict(x_test)\n",
    "    time_eval=time.process_time() - start\n",
    "\n",
    "    acc_train= accuracy_score(y_train, yp_train)*100\n",
    "    acc_test= accuracy_score(y_test, yp_test)*100\n"
   ]
  },
  {
   "cell_type": "code",
   "execution_count": 79,
   "metadata": {},
   "outputs": [
    {
     "name": "stdout",
     "output_type": "stream",
     "text": [
      "(100, 666) (100,)\n",
      "100.0 70.0 0.0 0.0\n"
     ]
    },
    {
     "data": {
      "text/plain": [
       "(100.0, 70.0, 0.0, 0.0)"
      ]
     },
     "execution_count": 79,
     "metadata": {},
     "output_type": "execute_result"
    }
   ],
   "source": [
    "train_MNB_model(x,y,i_print=True)"
   ]
  },
  {
   "cell_type": "markdown",
   "metadata": {},
   "source": [
    "Have 100 percent accuracy on training set and 70 percent accuracy on the test set, so overall not a bad model."
   ]
  },
  {
   "cell_type": "markdown",
   "metadata": {},
   "source": []
  }
 ],
 "metadata": {
  "kernelspec": {
   "display_name": "base",
   "language": "python",
   "name": "python3"
  },
  "language_info": {
   "codemirror_mode": {
    "name": "ipython",
    "version": 3
   },
   "file_extension": ".py",
   "mimetype": "text/x-python",
   "name": "python",
   "nbconvert_exporter": "python",
   "pygments_lexer": "ipython3",
   "version": "3.11.5"
  }
 },
 "nbformat": 4,
 "nbformat_minor": 2
}
