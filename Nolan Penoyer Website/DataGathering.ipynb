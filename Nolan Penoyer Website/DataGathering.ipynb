{
  "cells": [
    {
      "cell_type": "markdown",
      "metadata": {},
      "source": [
        "---\n",
        "title: \"Data Gathering\"\n",
        "format: html\n",
        "---"
      ]
    },
    {
      "cell_type": "code",
      "execution_count": 11,
      "metadata": {},
      "outputs": [],
      "source": [
        "import requests\n",
        "import json\n",
        "import re\n",
        "import pandas as pd"
      ]
    },
    {
      "cell_type": "markdown",
      "metadata": {},
      "source": [
        "I will attempt to gather all the data I need to answer my 10 questions. Most of the data I acquire will come from census.gov. I will use data tables from the U.S. Census Bureau's American Community Survey (ACS), a nationwide survey that collects and produces information on social, economic, housing, and demographic characteristics about our nation's population each year."
      ]
    },
    {
      "cell_type": "markdown",
      "metadata": {},
      "source": [
        "I do not know how exactly I will be doing my analysis yet or what variables I think will be most useful, but to cover all my bases I will import the DP02-DP05 tables from 2017-2022, excluding 2020 because there was not accurate data that year due to COVID. I may not need all these tables or columns in the tables but it will be nice to have easy access to them in my future analysis."
      ]
    },
    {
      "cell_type": "markdown",
      "metadata": {},
      "source": [
        "Here are what the ACS tables contain:<br>\n",
        "DP02: Selected Social Characteristics in the United States <br>\n",
        "DP03: Selected Economic Characteristics in the United States <br>\n",
        "DP04: Selected Housing Characteristics <br>\n",
        "DP05: ACS Demographic and Housing Estimates"
      ]
    },
    {
      "cell_type": "markdown",
      "metadata": {},
      "source": [
        "Here is a link to the webpage: https://www.census.gov/data/developers/data-sets/ACS-supplemental-data.html"
      ]
    },
    {
      "cell_type": "markdown",
      "metadata": {},
      "source": [
        "I decided that I just want to focus on the real estate growth potential in every state. I can start broad by going by state, then in the future I can apply this study to different geographical levels, like if I wanted to focus on one state and compare different counties or cities. The methodology will be the same. So, a state in the United States will be my observational unit."
      ]
    },
    {
      "cell_type": "markdown",
      "metadata": {},
      "source": [
        "# Python API"
      ]
    },
    {
      "cell_type": "markdown",
      "metadata": {},
      "source": [
        "I will start by using an API in python to get one table to see what we are working with."
      ]
    },
    {
      "cell_type": "code",
      "execution_count": 42,
      "metadata": {},
      "outputs": [
        {
          "data": {
            "text/html": [
              "<div>\n",
              "<style scoped>\n",
              "    .dataframe tbody tr th:only-of-type {\n",
              "        vertical-align: middle;\n",
              "    }\n",
              "\n",
              "    .dataframe tbody tr th {\n",
              "        vertical-align: top;\n",
              "    }\n",
              "\n",
              "    .dataframe thead th {\n",
              "        text-align: right;\n",
              "    }\n",
              "</style>\n",
              "<table border=\"1\" class=\"dataframe\">\n",
              "  <thead>\n",
              "    <tr style=\"text-align: right;\">\n",
              "      <th></th>\n",
              "      <th>0</th>\n",
              "      <th>1</th>\n",
              "      <th>2</th>\n",
              "      <th>3</th>\n",
              "      <th>4</th>\n",
              "      <th>5</th>\n",
              "      <th>6</th>\n",
              "      <th>7</th>\n",
              "      <th>8</th>\n",
              "      <th>9</th>\n",
              "      <th>...</th>\n",
              "      <th>1209</th>\n",
              "      <th>1210</th>\n",
              "      <th>1211</th>\n",
              "      <th>1212</th>\n",
              "      <th>1213</th>\n",
              "      <th>1214</th>\n",
              "      <th>1215</th>\n",
              "      <th>1216</th>\n",
              "      <th>1217</th>\n",
              "      <th>1218</th>\n",
              "    </tr>\n",
              "  </thead>\n",
              "  <tbody>\n",
              "    <tr>\n",
              "      <th>0</th>\n",
              "      <td>DP02_0001E</td>\n",
              "      <td>DP02_0001EA</td>\n",
              "      <td>DP02_0001M</td>\n",
              "      <td>DP02_0001MA</td>\n",
              "      <td>DP02_0001PE</td>\n",
              "      <td>DP02_0001PEA</td>\n",
              "      <td>DP02_0001PM</td>\n",
              "      <td>DP02_0001PMA</td>\n",
              "      <td>DP02_0002E</td>\n",
              "      <td>DP02_0002EA</td>\n",
              "      <td>...</td>\n",
              "      <td>DP02_0152EA</td>\n",
              "      <td>DP02_0152M</td>\n",
              "      <td>DP02_0152MA</td>\n",
              "      <td>DP02_0152PE</td>\n",
              "      <td>DP02_0152PEA</td>\n",
              "      <td>DP02_0152PM</td>\n",
              "      <td>DP02_0152PMA</td>\n",
              "      <td>GEO_ID</td>\n",
              "      <td>NAME</td>\n",
              "      <td>state</td>\n",
              "    </tr>\n",
              "    <tr>\n",
              "      <th>1</th>\n",
              "      <td>1091980</td>\n",
              "      <td>None</td>\n",
              "      <td>9693</td>\n",
              "      <td>None</td>\n",
              "      <td>1091980</td>\n",
              "      <td>None</td>\n",
              "      <td>-888888888</td>\n",
              "      <td>(X)</td>\n",
              "      <td>716451</td>\n",
              "      <td>None</td>\n",
              "      <td>...</td>\n",
              "      <td>None</td>\n",
              "      <td>9854</td>\n",
              "      <td>None</td>\n",
              "      <td>73.4</td>\n",
              "      <td>None</td>\n",
              "      <td>0.6</td>\n",
              "      <td>None</td>\n",
              "      <td>0400000US28</td>\n",
              "      <td>Mississippi</td>\n",
              "      <td>28</td>\n",
              "    </tr>\n",
              "    <tr>\n",
              "      <th>2</th>\n",
              "      <td>2385135</td>\n",
              "      <td>None</td>\n",
              "      <td>13054</td>\n",
              "      <td>None</td>\n",
              "      <td>2385135</td>\n",
              "      <td>None</td>\n",
              "      <td>-888888888</td>\n",
              "      <td>(X)</td>\n",
              "      <td>1527260</td>\n",
              "      <td>None</td>\n",
              "      <td>...</td>\n",
              "      <td>None</td>\n",
              "      <td>15052</td>\n",
              "      <td>None</td>\n",
              "      <td>81.3</td>\n",
              "      <td>None</td>\n",
              "      <td>0.4</td>\n",
              "      <td>None</td>\n",
              "      <td>0400000US29</td>\n",
              "      <td>Missouri</td>\n",
              "      <td>29</td>\n",
              "    </tr>\n",
              "    <tr>\n",
              "      <th>3</th>\n",
              "      <td>423091</td>\n",
              "      <td>None</td>\n",
              "      <td>4068</td>\n",
              "      <td>None</td>\n",
              "      <td>423091</td>\n",
              "      <td>None</td>\n",
              "      <td>-888888888</td>\n",
              "      <td>(X)</td>\n",
              "      <td>262726</td>\n",
              "      <td>None</td>\n",
              "      <td>...</td>\n",
              "      <td>None</td>\n",
              "      <td>4698</td>\n",
              "      <td>None</td>\n",
              "      <td>81.3</td>\n",
              "      <td>None</td>\n",
              "      <td>0.9</td>\n",
              "      <td>None</td>\n",
              "      <td>0400000US30</td>\n",
              "      <td>Montana</td>\n",
              "      <td>30</td>\n",
              "    </tr>\n",
              "    <tr>\n",
              "      <th>4</th>\n",
              "      <td>754490</td>\n",
              "      <td>None</td>\n",
              "      <td>4583</td>\n",
              "      <td>None</td>\n",
              "      <td>754490</td>\n",
              "      <td>None</td>\n",
              "      <td>-888888888</td>\n",
              "      <td>(X)</td>\n",
              "      <td>484989</td>\n",
              "      <td>None</td>\n",
              "      <td>...</td>\n",
              "      <td>None</td>\n",
              "      <td>6206</td>\n",
              "      <td>None</td>\n",
              "      <td>84.4</td>\n",
              "      <td>None</td>\n",
              "      <td>0.5</td>\n",
              "      <td>None</td>\n",
              "      <td>0400000US31</td>\n",
              "      <td>Nebraska</td>\n",
              "      <td>31</td>\n",
              "    </tr>\n",
              "  </tbody>\n",
              "</table>\n",
              "<p>5 rows × 1219 columns</p>\n",
              "</div>"
            ],
            "text/plain": [
              "         0            1           2            3            4     \\\n",
              "0  DP02_0001E  DP02_0001EA  DP02_0001M  DP02_0001MA  DP02_0001PE   \n",
              "1     1091980         None        9693         None      1091980   \n",
              "2     2385135         None       13054         None      2385135   \n",
              "3      423091         None        4068         None       423091   \n",
              "4      754490         None        4583         None       754490   \n",
              "\n",
              "           5            6             7           8            9     ...  \\\n",
              "0  DP02_0001PEA  DP02_0001PM  DP02_0001PMA  DP02_0002E  DP02_0002EA  ...   \n",
              "1          None   -888888888           (X)      716451         None  ...   \n",
              "2          None   -888888888           (X)     1527260         None  ...   \n",
              "3          None   -888888888           (X)      262726         None  ...   \n",
              "4          None   -888888888           (X)      484989         None  ...   \n",
              "\n",
              "          1209        1210         1211         1212          1213  \\\n",
              "0  DP02_0152EA  DP02_0152M  DP02_0152MA  DP02_0152PE  DP02_0152PEA   \n",
              "1         None        9854         None         73.4          None   \n",
              "2         None       15052         None         81.3          None   \n",
              "3         None        4698         None         81.3          None   \n",
              "4         None        6206         None         84.4          None   \n",
              "\n",
              "          1214          1215         1216         1217   1218  \n",
              "0  DP02_0152PM  DP02_0152PMA       GEO_ID         NAME  state  \n",
              "1          0.6          None  0400000US28  Mississippi     28  \n",
              "2          0.4          None  0400000US29     Missouri     29  \n",
              "3          0.9          None  0400000US30      Montana     30  \n",
              "4          0.5          None  0400000US31     Nebraska     31  \n",
              "\n",
              "[5 rows x 1219 columns]"
            ]
          },
          "execution_count": 42,
          "metadata": {},
          "output_type": "execute_result"
        }
      ],
      "source": [
        "DP02_URL_2017=\"https://api.census.gov/data/2017/acs/acs1/profile?get=group(DP02)&for=state:*\"\n",
        "DP02_2017= requests.get(DP02_URL_2017)\n",
        "DP02_2017 = DP02_2017.json()\n",
        "DP02_2017=pd.DataFrame(DP02_2017)\n",
        "DP02_2017.head()"
      ]
    },
    {
      "cell_type": "markdown",
      "metadata": {},
      "source": [
        "As you can see the column names do not tell us much right now because they are codes that match to different variable labels in the census data. For example, DP02_0001E maps to total household counts. In the data cleaning section, we will be sure to give each column a proper label that tells us what the column represents. Furthermore, we will only keep a select few columns out of the large number of variables in the data cleaning section."
      ]
    },
    {
      "cell_type": "markdown",
      "metadata": {},
      "source": [
        "I will use the following code to get each table I want and turn them into csvs for easy retrieval for the rest of my analysis."
      ]
    },
    {
      "cell_type": "code",
      "execution_count": 81,
      "metadata": {},
      "outputs": [],
      "source": [
        "string='https://api.census.gov/data/2016/acs/acs1/profile?get=group(DP05)&for=state'\n",
        "list1=['2016','2017','2018','2019','2021']\n",
        "list2=['2017','2018','2019','2021','2022']\n",
        "list3=['DP01','DP02','DP03','DP04']\n",
        "list4=['DP02','DP03','DP04','DP05']\n",
        "for i in range(5):\n",
        "    string=string.replace('DP05',list3[0])\n",
        "    for w in range(4):\n",
        "        file='./data/'\n",
        "        csv='.csv'\n",
        "        name=file+list2[i]+list4[w]+csv\n",
        "        csvname=file+list2[i]+list3[w]\n",
        "        string=string.replace(list1[i],list2[i])\n",
        "        string=string.replace(list3[w],list4[w])\n",
        "        response=requests.get(string)\n",
        "        response = response.json()\n",
        "        df=pd.DataFrame(response)\n",
        "        df.to_csv(name, index=False)\n"
      ]
    },
    {
      "cell_type": "markdown",
      "metadata": {},
      "source": [
        "# R API"
      ]
    },
    {
      "cell_type": "markdown",
      "metadata": {},
      "source": [
        "Here I will use an API in R to retreive text data that can give me some insight into some real estate trends and what states people are talking about."
      ]
    },
    {
      "cell_type": "markdown",
      "metadata": {},
      "source": [
        "# Download"
      ]
    },
    {
      "cell_type": "markdown",
      "metadata": {},
      "source": [
        "https://www.zillow.com/research/data/"
      ]
    }
  ],
  "metadata": {
    "kernelspec": {
      "display_name": "Python 3",
      "language": "python",
      "name": "python3"
    },
    "language_info": {
      "codemirror_mode": {
        "name": "ipython",
        "version": 3
      },
      "file_extension": ".py",
      "mimetype": "text/x-python",
      "name": "python",
      "nbconvert_exporter": "python",
      "pygments_lexer": "ipython3",
      "version": "3.11.5"
    }
  },
  "nbformat": 4,
  "nbformat_minor": 4
}
